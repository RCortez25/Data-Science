{
 "cells": [
  {
   "cell_type": "markdown",
   "id": "3aa6b464",
   "metadata": {
    "toc": true
   },
   "source": [
    "<h1>Table of Contents<span class=\"tocSkip\"></span></h1>\n",
    "<div class=\"toc\"><ul class=\"toc-item\"><li><span><a href=\"#Introduction\" data-toc-modified-id=\"Introduction-1\"><span class=\"toc-item-num\">1&nbsp;&nbsp;</span>Introduction</a></span></li><li><span><a href=\"#General-information\" data-toc-modified-id=\"General-information-2\"><span class=\"toc-item-num\">2&nbsp;&nbsp;</span>General information</a></span></li><li><span><a href=\"#Data-preprocessing\" data-toc-modified-id=\"Data-preprocessing-3\"><span class=\"toc-item-num\">3&nbsp;&nbsp;</span>Data preprocessing</a></span><ul class=\"toc-item\"><li><span><a href=\"#Summary\" data-toc-modified-id=\"Summary-3.1\"><span class=\"toc-item-num\">3.1&nbsp;&nbsp;</span>Summary</a></span></li></ul></li><li><span><a href=\"#Data-analysis\" data-toc-modified-id=\"Data-analysis-4\"><span class=\"toc-item-num\">4&nbsp;&nbsp;</span>Data analysis</a></span><ul class=\"toc-item\"><li><span><a href=\"#Games-released-each-year\" data-toc-modified-id=\"Games-released-each-year-4.1\"><span class=\"toc-item-num\">4.1&nbsp;&nbsp;</span>Games released each year</a></span></li><li><span><a href=\"#Sales-by-platform\" data-toc-modified-id=\"Sales-by-platform-4.2\"><span class=\"toc-item-num\">4.2&nbsp;&nbsp;</span>Sales by platform</a></span></li><li><span><a href=\"#Leading-sales\" data-toc-modified-id=\"Leading-sales-4.3\"><span class=\"toc-item-num\">4.3&nbsp;&nbsp;</span>Leading sales</a></span></li><li><span><a href=\"#The-effect-of-critic-and-user-scores-on-sales\" data-toc-modified-id=\"The-effect-of-critic-and-user-scores-on-sales-4.4\"><span class=\"toc-item-num\">4.4&nbsp;&nbsp;</span>The effect of critic and user scores on sales</a></span></li><li><span><a href=\"#Comparing-games-across-different-platforms\" data-toc-modified-id=\"Comparing-games-across-different-platforms-4.5\"><span class=\"toc-item-num\">4.5&nbsp;&nbsp;</span>Comparing games across different platforms</a></span></li><li><span><a href=\"#Genres\" data-toc-modified-id=\"Genres-4.6\"><span class=\"toc-item-num\">4.6&nbsp;&nbsp;</span>Genres</a></span></li><li><span><a href=\"#User-profile-by-region\" data-toc-modified-id=\"User-profile-by-region-4.7\"><span class=\"toc-item-num\">4.7&nbsp;&nbsp;</span>User profile by region</a></span></li><li><span><a href=\"#User-profile-by-genre\" data-toc-modified-id=\"User-profile-by-genre-4.8\"><span class=\"toc-item-num\">4.8&nbsp;&nbsp;</span>User profile by genre</a></span></li><li><span><a href=\"#User-profile-by-rating-(ESRB)\" data-toc-modified-id=\"User-profile-by-rating-(ESRB)-4.9\"><span class=\"toc-item-num\">4.9&nbsp;&nbsp;</span>User profile by rating (ESRB)</a></span></li></ul></li><li><span><a href=\"#Hypothesis-testing\" data-toc-modified-id=\"Hypothesis-testing-5\"><span class=\"toc-item-num\">5&nbsp;&nbsp;</span>Hypothesis testing</a></span><ul class=\"toc-item\"><li><span><a href=\"#The-mean-of-the-user-scores-for-XOne-and-PC-is-the-same\" data-toc-modified-id=\"The-mean-of-the-user-scores-for-XOne-and-PC-is-the-same-5.1\"><span class=\"toc-item-num\">5.1&nbsp;&nbsp;</span>The mean of the user scores for XOne and PC is the same</a></span></li><li><span><a href=\"#The-mean-of-the-user-scores-for-genres-Action-and-Sports-is-different\" data-toc-modified-id=\"The-mean-of-the-user-scores-for-genres-Action-and-Sports-is-different-5.2\"><span class=\"toc-item-num\">5.2&nbsp;&nbsp;</span>The mean of the user scores for genres <em>Action</em> and <em>Sports</em> is different</a></span></li></ul></li><li><span><a href=\"#Conclusion\" data-toc-modified-id=\"Conclusion-6\"><span class=\"toc-item-num\">6&nbsp;&nbsp;</span>Conclusion</a></span></li></ul></div>"
   ]
  },
  {
   "cell_type": "markdown",
   "id": "634c862f",
   "metadata": {},
   "source": [
    "# Introduction"
   ]
  },
  {
   "cell_type": "markdown",
   "id": "6c725ccd",
   "metadata": {},
   "source": [
    "**Ice** is a worldwide online videogame store. It has provided us with a dataset of videogames with their characteristics and their sales. We will determine what makes a successfull game. This information will help **Ice** with their advertising campaigns. "
   ]
  },
  {
   "cell_type": "markdown",
   "id": "d1aab0db",
   "metadata": {},
   "source": [
    "# General information"
   ]
  },
  {
   "cell_type": "code",
   "execution_count": 1,
   "id": "fcadbc79",
   "metadata": {},
   "outputs": [],
   "source": [
    "import pandas as pd\n",
    "import numpy as np\n",
    "import seaborn as sns\n",
    "import matplotlib.pyplot as plt\n",
    "from scipy import stats as st"
   ]
  },
  {
   "cell_type": "code",
   "execution_count": 2,
   "id": "dcf7cd9a",
   "metadata": {},
   "outputs": [
    {
     "name": "stdout",
     "output_type": "stream",
     "text": [
      "<class 'pandas.core.frame.DataFrame'>\n",
      "RangeIndex: 16715 entries, 0 to 16714\n",
      "Data columns (total 11 columns):\n",
      " #   Column           Non-Null Count  Dtype  \n",
      "---  ------           --------------  -----  \n",
      " 0   Name             16713 non-null  object \n",
      " 1   Platform         16715 non-null  object \n",
      " 2   Year_of_Release  16446 non-null  float64\n",
      " 3   Genre            16713 non-null  object \n",
      " 4   NA_sales         16715 non-null  float64\n",
      " 5   EU_sales         16715 non-null  float64\n",
      " 6   JP_sales         16715 non-null  float64\n",
      " 7   Other_sales      16715 non-null  float64\n",
      " 8   Critic_Score     8137 non-null   float64\n",
      " 9   User_Score       10014 non-null  object \n",
      " 10  Rating           9949 non-null   object \n",
      "dtypes: float64(6), object(5)\n",
      "memory usage: 1.4+ MB\n"
     ]
    }
   ],
   "source": [
    "# read dataset into a DataFrame called 'df'\n",
    "df = pd.read_csv('/datasets/games.csv')\n",
    "\n",
    "\n",
    "# eliminate duplicated rows, if any\n",
    "df.drop_duplicates()\n",
    "\n",
    "\n",
    "# checking dataset's general information\n",
    "df.info()"
   ]
  },
  {
   "cell_type": "code",
   "execution_count": 3,
   "id": "c8f87c49",
   "metadata": {},
   "outputs": [
    {
     "data": {
      "text/html": [
       "<div>\n",
       "<style scoped>\n",
       "    .dataframe tbody tr th:only-of-type {\n",
       "        vertical-align: middle;\n",
       "    }\n",
       "\n",
       "    .dataframe tbody tr th {\n",
       "        vertical-align: top;\n",
       "    }\n",
       "\n",
       "    .dataframe thead th {\n",
       "        text-align: right;\n",
       "    }\n",
       "</style>\n",
       "<table border=\"1\" class=\"dataframe\">\n",
       "  <thead>\n",
       "    <tr style=\"text-align: right;\">\n",
       "      <th></th>\n",
       "      <th>Name</th>\n",
       "      <th>Platform</th>\n",
       "      <th>Year_of_Release</th>\n",
       "      <th>Genre</th>\n",
       "      <th>NA_sales</th>\n",
       "      <th>EU_sales</th>\n",
       "      <th>JP_sales</th>\n",
       "      <th>Other_sales</th>\n",
       "      <th>Critic_Score</th>\n",
       "      <th>User_Score</th>\n",
       "      <th>Rating</th>\n",
       "    </tr>\n",
       "  </thead>\n",
       "  <tbody>\n",
       "    <tr>\n",
       "      <th>0</th>\n",
       "      <td>Wii Sports</td>\n",
       "      <td>Wii</td>\n",
       "      <td>2006.0</td>\n",
       "      <td>Sports</td>\n",
       "      <td>41.36</td>\n",
       "      <td>28.96</td>\n",
       "      <td>3.77</td>\n",
       "      <td>8.45</td>\n",
       "      <td>76.0</td>\n",
       "      <td>8</td>\n",
       "      <td>E</td>\n",
       "    </tr>\n",
       "    <tr>\n",
       "      <th>1</th>\n",
       "      <td>Super Mario Bros.</td>\n",
       "      <td>NES</td>\n",
       "      <td>1985.0</td>\n",
       "      <td>Platform</td>\n",
       "      <td>29.08</td>\n",
       "      <td>3.58</td>\n",
       "      <td>6.81</td>\n",
       "      <td>0.77</td>\n",
       "      <td>NaN</td>\n",
       "      <td>NaN</td>\n",
       "      <td>NaN</td>\n",
       "    </tr>\n",
       "    <tr>\n",
       "      <th>2</th>\n",
       "      <td>Mario Kart Wii</td>\n",
       "      <td>Wii</td>\n",
       "      <td>2008.0</td>\n",
       "      <td>Racing</td>\n",
       "      <td>15.68</td>\n",
       "      <td>12.76</td>\n",
       "      <td>3.79</td>\n",
       "      <td>3.29</td>\n",
       "      <td>82.0</td>\n",
       "      <td>8.3</td>\n",
       "      <td>E</td>\n",
       "    </tr>\n",
       "    <tr>\n",
       "      <th>3</th>\n",
       "      <td>Wii Sports Resort</td>\n",
       "      <td>Wii</td>\n",
       "      <td>2009.0</td>\n",
       "      <td>Sports</td>\n",
       "      <td>15.61</td>\n",
       "      <td>10.93</td>\n",
       "      <td>3.28</td>\n",
       "      <td>2.95</td>\n",
       "      <td>80.0</td>\n",
       "      <td>8</td>\n",
       "      <td>E</td>\n",
       "    </tr>\n",
       "    <tr>\n",
       "      <th>4</th>\n",
       "      <td>Pokemon Red/Pokemon Blue</td>\n",
       "      <td>GB</td>\n",
       "      <td>1996.0</td>\n",
       "      <td>Role-Playing</td>\n",
       "      <td>11.27</td>\n",
       "      <td>8.89</td>\n",
       "      <td>10.22</td>\n",
       "      <td>1.00</td>\n",
       "      <td>NaN</td>\n",
       "      <td>NaN</td>\n",
       "      <td>NaN</td>\n",
       "    </tr>\n",
       "    <tr>\n",
       "      <th>5</th>\n",
       "      <td>Tetris</td>\n",
       "      <td>GB</td>\n",
       "      <td>1989.0</td>\n",
       "      <td>Puzzle</td>\n",
       "      <td>23.20</td>\n",
       "      <td>2.26</td>\n",
       "      <td>4.22</td>\n",
       "      <td>0.58</td>\n",
       "      <td>NaN</td>\n",
       "      <td>NaN</td>\n",
       "      <td>NaN</td>\n",
       "    </tr>\n",
       "    <tr>\n",
       "      <th>6</th>\n",
       "      <td>New Super Mario Bros.</td>\n",
       "      <td>DS</td>\n",
       "      <td>2006.0</td>\n",
       "      <td>Platform</td>\n",
       "      <td>11.28</td>\n",
       "      <td>9.14</td>\n",
       "      <td>6.50</td>\n",
       "      <td>2.88</td>\n",
       "      <td>89.0</td>\n",
       "      <td>8.5</td>\n",
       "      <td>E</td>\n",
       "    </tr>\n",
       "    <tr>\n",
       "      <th>7</th>\n",
       "      <td>Wii Play</td>\n",
       "      <td>Wii</td>\n",
       "      <td>2006.0</td>\n",
       "      <td>Misc</td>\n",
       "      <td>13.96</td>\n",
       "      <td>9.18</td>\n",
       "      <td>2.93</td>\n",
       "      <td>2.84</td>\n",
       "      <td>58.0</td>\n",
       "      <td>6.6</td>\n",
       "      <td>E</td>\n",
       "    </tr>\n",
       "    <tr>\n",
       "      <th>8</th>\n",
       "      <td>New Super Mario Bros. Wii</td>\n",
       "      <td>Wii</td>\n",
       "      <td>2009.0</td>\n",
       "      <td>Platform</td>\n",
       "      <td>14.44</td>\n",
       "      <td>6.94</td>\n",
       "      <td>4.70</td>\n",
       "      <td>2.24</td>\n",
       "      <td>87.0</td>\n",
       "      <td>8.4</td>\n",
       "      <td>E</td>\n",
       "    </tr>\n",
       "    <tr>\n",
       "      <th>9</th>\n",
       "      <td>Duck Hunt</td>\n",
       "      <td>NES</td>\n",
       "      <td>1984.0</td>\n",
       "      <td>Shooter</td>\n",
       "      <td>26.93</td>\n",
       "      <td>0.63</td>\n",
       "      <td>0.28</td>\n",
       "      <td>0.47</td>\n",
       "      <td>NaN</td>\n",
       "      <td>NaN</td>\n",
       "      <td>NaN</td>\n",
       "    </tr>\n",
       "    <tr>\n",
       "      <th>10</th>\n",
       "      <td>Nintendogs</td>\n",
       "      <td>DS</td>\n",
       "      <td>2005.0</td>\n",
       "      <td>Simulation</td>\n",
       "      <td>9.05</td>\n",
       "      <td>10.95</td>\n",
       "      <td>1.93</td>\n",
       "      <td>2.74</td>\n",
       "      <td>NaN</td>\n",
       "      <td>NaN</td>\n",
       "      <td>NaN</td>\n",
       "    </tr>\n",
       "    <tr>\n",
       "      <th>11</th>\n",
       "      <td>Mario Kart DS</td>\n",
       "      <td>DS</td>\n",
       "      <td>2005.0</td>\n",
       "      <td>Racing</td>\n",
       "      <td>9.71</td>\n",
       "      <td>7.47</td>\n",
       "      <td>4.13</td>\n",
       "      <td>1.90</td>\n",
       "      <td>91.0</td>\n",
       "      <td>8.6</td>\n",
       "      <td>E</td>\n",
       "    </tr>\n",
       "    <tr>\n",
       "      <th>12</th>\n",
       "      <td>Pokemon Gold/Pokemon Silver</td>\n",
       "      <td>GB</td>\n",
       "      <td>1999.0</td>\n",
       "      <td>Role-Playing</td>\n",
       "      <td>9.00</td>\n",
       "      <td>6.18</td>\n",
       "      <td>7.20</td>\n",
       "      <td>0.71</td>\n",
       "      <td>NaN</td>\n",
       "      <td>NaN</td>\n",
       "      <td>NaN</td>\n",
       "    </tr>\n",
       "    <tr>\n",
       "      <th>13</th>\n",
       "      <td>Wii Fit</td>\n",
       "      <td>Wii</td>\n",
       "      <td>2007.0</td>\n",
       "      <td>Sports</td>\n",
       "      <td>8.92</td>\n",
       "      <td>8.03</td>\n",
       "      <td>3.60</td>\n",
       "      <td>2.15</td>\n",
       "      <td>80.0</td>\n",
       "      <td>7.7</td>\n",
       "      <td>E</td>\n",
       "    </tr>\n",
       "    <tr>\n",
       "      <th>14</th>\n",
       "      <td>Kinect Adventures!</td>\n",
       "      <td>X360</td>\n",
       "      <td>2010.0</td>\n",
       "      <td>Misc</td>\n",
       "      <td>15.00</td>\n",
       "      <td>4.89</td>\n",
       "      <td>0.24</td>\n",
       "      <td>1.69</td>\n",
       "      <td>61.0</td>\n",
       "      <td>6.3</td>\n",
       "      <td>E</td>\n",
       "    </tr>\n",
       "    <tr>\n",
       "      <th>15</th>\n",
       "      <td>Wii Fit Plus</td>\n",
       "      <td>Wii</td>\n",
       "      <td>2009.0</td>\n",
       "      <td>Sports</td>\n",
       "      <td>9.01</td>\n",
       "      <td>8.49</td>\n",
       "      <td>2.53</td>\n",
       "      <td>1.77</td>\n",
       "      <td>80.0</td>\n",
       "      <td>7.4</td>\n",
       "      <td>E</td>\n",
       "    </tr>\n",
       "    <tr>\n",
       "      <th>16</th>\n",
       "      <td>Grand Theft Auto V</td>\n",
       "      <td>PS3</td>\n",
       "      <td>2013.0</td>\n",
       "      <td>Action</td>\n",
       "      <td>7.02</td>\n",
       "      <td>9.09</td>\n",
       "      <td>0.98</td>\n",
       "      <td>3.96</td>\n",
       "      <td>97.0</td>\n",
       "      <td>8.2</td>\n",
       "      <td>M</td>\n",
       "    </tr>\n",
       "    <tr>\n",
       "      <th>17</th>\n",
       "      <td>Grand Theft Auto: San Andreas</td>\n",
       "      <td>PS2</td>\n",
       "      <td>2004.0</td>\n",
       "      <td>Action</td>\n",
       "      <td>9.43</td>\n",
       "      <td>0.40</td>\n",
       "      <td>0.41</td>\n",
       "      <td>10.57</td>\n",
       "      <td>95.0</td>\n",
       "      <td>9</td>\n",
       "      <td>M</td>\n",
       "    </tr>\n",
       "    <tr>\n",
       "      <th>18</th>\n",
       "      <td>Super Mario World</td>\n",
       "      <td>SNES</td>\n",
       "      <td>1990.0</td>\n",
       "      <td>Platform</td>\n",
       "      <td>12.78</td>\n",
       "      <td>3.75</td>\n",
       "      <td>3.54</td>\n",
       "      <td>0.55</td>\n",
       "      <td>NaN</td>\n",
       "      <td>NaN</td>\n",
       "      <td>NaN</td>\n",
       "    </tr>\n",
       "    <tr>\n",
       "      <th>19</th>\n",
       "      <td>Brain Age: Train Your Brain in Minutes a Day</td>\n",
       "      <td>DS</td>\n",
       "      <td>2005.0</td>\n",
       "      <td>Misc</td>\n",
       "      <td>4.74</td>\n",
       "      <td>9.20</td>\n",
       "      <td>4.16</td>\n",
       "      <td>2.04</td>\n",
       "      <td>77.0</td>\n",
       "      <td>7.9</td>\n",
       "      <td>E</td>\n",
       "    </tr>\n",
       "  </tbody>\n",
       "</table>\n",
       "</div>"
      ],
      "text/plain": [
       "                                            Name Platform  Year_of_Release  \\\n",
       "0                                     Wii Sports      Wii           2006.0   \n",
       "1                              Super Mario Bros.      NES           1985.0   \n",
       "2                                 Mario Kart Wii      Wii           2008.0   \n",
       "3                              Wii Sports Resort      Wii           2009.0   \n",
       "4                       Pokemon Red/Pokemon Blue       GB           1996.0   \n",
       "5                                         Tetris       GB           1989.0   \n",
       "6                          New Super Mario Bros.       DS           2006.0   \n",
       "7                                       Wii Play      Wii           2006.0   \n",
       "8                      New Super Mario Bros. Wii      Wii           2009.0   \n",
       "9                                      Duck Hunt      NES           1984.0   \n",
       "10                                    Nintendogs       DS           2005.0   \n",
       "11                                 Mario Kart DS       DS           2005.0   \n",
       "12                   Pokemon Gold/Pokemon Silver       GB           1999.0   \n",
       "13                                       Wii Fit      Wii           2007.0   \n",
       "14                            Kinect Adventures!     X360           2010.0   \n",
       "15                                  Wii Fit Plus      Wii           2009.0   \n",
       "16                            Grand Theft Auto V      PS3           2013.0   \n",
       "17                 Grand Theft Auto: San Andreas      PS2           2004.0   \n",
       "18                             Super Mario World     SNES           1990.0   \n",
       "19  Brain Age: Train Your Brain in Minutes a Day       DS           2005.0   \n",
       "\n",
       "           Genre  NA_sales  EU_sales  JP_sales  Other_sales  Critic_Score  \\\n",
       "0         Sports     41.36     28.96      3.77         8.45          76.0   \n",
       "1       Platform     29.08      3.58      6.81         0.77           NaN   \n",
       "2         Racing     15.68     12.76      3.79         3.29          82.0   \n",
       "3         Sports     15.61     10.93      3.28         2.95          80.0   \n",
       "4   Role-Playing     11.27      8.89     10.22         1.00           NaN   \n",
       "5         Puzzle     23.20      2.26      4.22         0.58           NaN   \n",
       "6       Platform     11.28      9.14      6.50         2.88          89.0   \n",
       "7           Misc     13.96      9.18      2.93         2.84          58.0   \n",
       "8       Platform     14.44      6.94      4.70         2.24          87.0   \n",
       "9        Shooter     26.93      0.63      0.28         0.47           NaN   \n",
       "10    Simulation      9.05     10.95      1.93         2.74           NaN   \n",
       "11        Racing      9.71      7.47      4.13         1.90          91.0   \n",
       "12  Role-Playing      9.00      6.18      7.20         0.71           NaN   \n",
       "13        Sports      8.92      8.03      3.60         2.15          80.0   \n",
       "14          Misc     15.00      4.89      0.24         1.69          61.0   \n",
       "15        Sports      9.01      8.49      2.53         1.77          80.0   \n",
       "16        Action      7.02      9.09      0.98         3.96          97.0   \n",
       "17        Action      9.43      0.40      0.41        10.57          95.0   \n",
       "18      Platform     12.78      3.75      3.54         0.55           NaN   \n",
       "19          Misc      4.74      9.20      4.16         2.04          77.0   \n",
       "\n",
       "   User_Score Rating  \n",
       "0           8      E  \n",
       "1         NaN    NaN  \n",
       "2         8.3      E  \n",
       "3           8      E  \n",
       "4         NaN    NaN  \n",
       "5         NaN    NaN  \n",
       "6         8.5      E  \n",
       "7         6.6      E  \n",
       "8         8.4      E  \n",
       "9         NaN    NaN  \n",
       "10        NaN    NaN  \n",
       "11        8.6      E  \n",
       "12        NaN    NaN  \n",
       "13        7.7      E  \n",
       "14        6.3      E  \n",
       "15        7.4      E  \n",
       "16        8.2      M  \n",
       "17          9      M  \n",
       "18        NaN    NaN  \n",
       "19        7.9      E  "
      ]
     },
     "execution_count": 3,
     "metadata": {},
     "output_type": "execute_result"
    }
   ],
   "source": [
    "# taking a quick look at the first 10 rows of the data\n",
    "df.head(20)"
   ]
  },
  {
   "cell_type": "markdown",
   "id": "7d7f556b",
   "metadata": {},
   "source": [
    "Here's a list of the task we are going to perform on the dataframe's columns, based on the information above:\n",
    "\n",
    "* We'll format all of the column's names, making them lowercase.\n",
    "\n",
    "* **Name**: There are two missing values. The name of the game is the most important feature, without it, there's no way of figuring it out. We'll eliminate these two rows.\n",
    "* **Year of release**: We have 269 missing values. We can assume that the year of release if probably the less important aspect for determining the success of a game, as gamers won't pay attentio to it. We'll eliminate these missing values as they don't represent a meaningful fraction of the dataset. We'll convert the column's values to integers.\n",
    "* **Genre**: As there are only two missing values, we'll fill them in with 'Other' as probably these games are hard to categorize.\n",
    "* **Critic score**: There are many missing values. As can be seen, it seems that games that don't have a critic score also don't have user scores and genres. We notice that those games must be rated as *E*. This observation helps us to implement a method for filling missing values: we'll find the mean of the scores for games with the same genre and rated *E* and suse to fill the scores in.\n",
    "* **User score**: We'll proceed as with *Critic score*. We'll convert the values to floats as well, however, we're told there are 'tbd' entries (meaning 'to be determined') for this column. We'll convert those to NaN as they basically represent the same.\n",
    "* **Rating**: We'll fill the missing values with *E*, as we can observe that those games belong to this category by looking at the dataframe above."
   ]
  },
  {
   "cell_type": "markdown",
   "id": "994c34bd",
   "metadata": {},
   "source": [
    "# Data preprocessing\n",
    "\n",
    "We'll apply the changes explained above."
   ]
  },
  {
   "cell_type": "code",
   "execution_count": 4,
   "id": "a485e8c0",
   "metadata": {},
   "outputs": [],
   "source": [
    "# renaming of the columns\n",
    "df.rename(columns={'Name': 'name',\n",
    "           'Platform': 'platform',\n",
    "           'Year_of_Release': 'year_of_release',\n",
    "           'Genre': 'genre',\n",
    "           'NA_sales': 'na_sales',\n",
    "           'EU_sales': 'eu_sales',\n",
    "           'JP_sales': 'jp_sales',\n",
    "           'Other_sales': 'other_sales',\n",
    "           'Critic_Score': 'critic_score',\n",
    "           'User_Score': 'user_score',\n",
    "           'Rating': 'rating'\n",
    "          }, inplace=True)\n",
    "\n",
    "\n",
    "# eliminate rows with missing values\n",
    "df.dropna(subset=['name', 'year_of_release'], inplace=True)\n",
    "\n",
    "\n",
    "# converting to integer values\n",
    "df['year_of_release'] = df['year_of_release'].astype('int')\n",
    "\n",
    "\n",
    "# fill genres\n",
    "df['genre'].fillna('Other', inplace=True)"
   ]
  },
  {
   "cell_type": "code",
   "execution_count": 5,
   "id": "2931a73c",
   "metadata": {},
   "outputs": [],
   "source": [
    "# converting values to float datatype\n",
    "# and changing 'tbd' to 'nan' values\n",
    "df['user_score'] = df['user_score'].apply(lambda x: np.nan if x=='tbd' else float(x))\n",
    "\n",
    "\n",
    "# obtain the mean for games with the same genre and rated E\n",
    "mean_critic = df.groupby(['genre', 'rating'], as_index=False)['critic_score'].mean().query('rating == \"E\"')\n",
    "mean_user = df.groupby(['genre', 'rating'], as_index=False)['user_score'].mean().query('rating == \"E\"')\n",
    "\n",
    "\n",
    "# defining a function to fill missing critic scores\n",
    "def fill_missing_critic_scores(row):\n",
    "    genre = row['genre']\n",
    "    critic_score = mean_critic.query('genre == @genre')['critic_score'].iloc[0]\n",
    "    #user_score = mean_user.query('genre == @genre')['user_score'].iloc[0]\n",
    "    \n",
    "    if pd.isna(row['critic_score']):\n",
    "        return int(critic_score)\n",
    "    else:\n",
    "        return row['critic_score']\n",
    "    \n",
    "\n",
    "# defining a function to fill missing user scores\n",
    "def fill_missing_user_scores(row):\n",
    "    genre = row['genre']\n",
    "    user_score = round(mean_user.query('genre == @genre')['user_score'].iloc[0], 1)\n",
    "    \n",
    "    if pd.isna(row['user_score']):\n",
    "        return user_score\n",
    "    else:\n",
    "        return row['user_score']\n",
    "\n",
    "    \n",
    "#apply the functions\n",
    "df['critic_score'] = df.apply(fill_missing_critic_scores, axis=1)\n",
    "df['user_score'] = df.apply(fill_missing_user_scores, axis=1)"
   ]
  },
  {
   "cell_type": "code",
   "execution_count": 6,
   "id": "68dee398",
   "metadata": {},
   "outputs": [],
   "source": [
    "# filling missing genres\n",
    "df['rating'].fillna('E', inplace=True)"
   ]
  },
  {
   "cell_type": "markdown",
   "id": "98c90f91",
   "metadata": {},
   "source": [
    "Now, we will calculate the total sales for each game, and add that information to our dataframe."
   ]
  },
  {
   "cell_type": "code",
   "execution_count": 7,
   "id": "52bc22f0",
   "metadata": {},
   "outputs": [
    {
     "name": "stdout",
     "output_type": "stream",
     "text": [
      "<class 'pandas.core.frame.DataFrame'>\n",
      "Int64Index: 16444 entries, 0 to 16714\n",
      "Data columns (total 12 columns):\n",
      " #   Column           Non-Null Count  Dtype  \n",
      "---  ------           --------------  -----  \n",
      " 0   name             16444 non-null  object \n",
      " 1   platform         16444 non-null  object \n",
      " 2   year_of_release  16444 non-null  int64  \n",
      " 3   genre            16444 non-null  object \n",
      " 4   na_sales         16444 non-null  float64\n",
      " 5   eu_sales         16444 non-null  float64\n",
      " 6   jp_sales         16444 non-null  float64\n",
      " 7   other_sales      16444 non-null  float64\n",
      " 8   critic_score     16444 non-null  float64\n",
      " 9   user_score       16444 non-null  float64\n",
      " 10  rating           16444 non-null  object \n",
      " 11  total_sales      16444 non-null  float64\n",
      "dtypes: float64(7), int64(1), object(4)\n",
      "memory usage: 1.6+ MB\n"
     ]
    }
   ],
   "source": [
    "df['total_sales'] = df['na_sales'] + df['eu_sales'] + df['jp_sales'] + df['other_sales']\n",
    "\n",
    "# checking the results\n",
    "df.info()"
   ]
  },
  {
   "cell_type": "markdown",
   "id": "8fb00862",
   "metadata": {},
   "source": [
    "## Summary\n",
    "\n",
    "We have detected some issues in our dataset and fixed them. The column's names were changed to lowecase, columns with a few missing values were removed from the dataset, and in others those values were filled. A new column was added to the dataframe containing the total sales for each game across all regions. We're ready to analyze our data."
   ]
  },
  {
   "cell_type": "markdown",
   "id": "f3f673f1",
   "metadata": {},
   "source": [
    "# Data analysis"
   ]
  },
  {
   "cell_type": "markdown",
   "id": "63881325",
   "metadata": {},
   "source": [
    "## Games released each year"
   ]
  },
  {
   "cell_type": "code",
   "execution_count": 8,
   "id": "e9470fa1",
   "metadata": {},
   "outputs": [
    {
     "data": {
      "image/png": "[encoded data removed]",
      "text/plain": [
       "<Figure size 576x576 with 1 Axes>"
      ]
     },
     "metadata": {
      "needs_background": "light"
     },
     "output_type": "display_data"
    }
   ],
   "source": [
    "# creating a histogram indicating how many games were released by year\n",
    "plt.figure(figsize=(8,8))\n",
    "plt.title('Number of games released by year')\n",
    "plt.xlabel('Year')\n",
    "plt.ylabel('Number of games')\n",
    "sns.histplot(df['year_of_release'], bins=15)\n",
    "plt.show()"
   ]
  },
  {
   "cell_type": "markdown",
   "id": "4902dd57",
   "metadata": {},
   "source": [
    "The releases of games incremented notoriously as years passed, reaching a maximum at around 2010, then decreasing until 2016."
   ]
  },
  {
   "cell_type": "markdown",
   "id": "ca0687c3",
   "metadata": {},
   "source": [
    "## Sales by platform"
   ]
  },
  {
   "cell_type": "code",
   "execution_count": 9,
   "id": "6d8126c7",
   "metadata": {},
   "outputs": [
    {
     "data": {
      "text/plain": [
       "platform\n",
       "PS2     1233.56\n",
       "X360     961.24\n",
       "PS3      931.34\n",
       "Wii      891.18\n",
       "DS       802.78\n",
       "Name: total_sales, dtype: float64"
      ]
     },
     "execution_count": 9,
     "metadata": {},
     "output_type": "execute_result"
    }
   ],
   "source": [
    "# grouping by total sales for each platform\n",
    "grouped_by_platform = df.groupby('platform').sum().sort_values('total_sales', ascending=False)\n",
    "grouped_by_platform['total_sales'].head()"
   ]
  },
  {
   "cell_type": "markdown",
   "id": "36deb2da",
   "metadata": {},
   "source": [
    "We'll concentrate in the two platforms with more sales: PS2 and X360."
   ]
  },
  {
   "cell_type": "code",
   "execution_count": 10,
   "id": "703b66e0",
   "metadata": {},
   "outputs": [],
   "source": [
    "ps2_data = df.query('platform == \"PS2\"')\n",
    "x360_data = df.query('platform == \"X360\"')\n",
    "ps3_data = df.query('platform == \"PS3\"')"
   ]
  },
  {
   "cell_type": "code",
   "execution_count": 11,
   "id": "4ee457be",
   "metadata": {},
   "outputs": [
    {
     "data": {
      "image/png": "[encoded data removed]",
      "text/plain": [
       "<Figure size 576x576 with 1 Axes>"
      ]
     },
     "metadata": {
      "needs_background": "light"
     },
     "output_type": "display_data"
    },
    {
     "data": {
      "image/png": "[encoded data removed]",
      "text/plain": [
       "<Figure size 576x576 with 1 Axes>"
      ]
     },
     "metadata": {
      "needs_background": "light"
     },
     "output_type": "display_data"
    },
    {
     "data": {
      "image/png": "[encoded data removed]",
      "text/plain": [
       "<Figure size 576x576 with 1 Axes>"
      ]
     },
     "metadata": {
      "needs_background": "light"
     },
     "output_type": "display_data"
    }
   ],
   "source": [
    "# analyzing games released by year\n",
    "plt.figure(figsize=(8,8))\n",
    "plt.title('PS2 - Number of games released by year')\n",
    "plt.xlabel('Year')\n",
    "plt.ylabel('Number of games')\n",
    "sns.histplot(ps2_data['year_of_release'], bins=10)\n",
    "plt.show()\n",
    "\n",
    "plt.figure(figsize=(8,8))\n",
    "plt.title('X360 - Number of games released by year')\n",
    "plt.xlabel('Year')\n",
    "plt.ylabel('Number of games')\n",
    "sns.histplot(x360_data['year_of_release'], bins=10)\n",
    "plt.show()\n",
    "\n",
    "plt.figure(figsize=(8,8))\n",
    "plt.title('PS3 - Number of games released by year')\n",
    "plt.xlabel('Year')\n",
    "plt.ylabel('Number of games')\n",
    "sns.histplot(ps3_data['year_of_release'], bins=10)\n",
    "plt.show()"
   ]
  },
  {
   "cell_type": "markdown",
   "id": "5869e7e2",
   "metadata": {},
   "source": [
    "As the histograms show, PS2 sales stayed relevant for about 8 years, then declining due to the new platform PS3 whose sales increased paired with PS2 sales descrease. X360 sales increased while the platform was relevant, then decreasing due to the new platform Xbox One.\n",
    "\n",
    "Guven that in this industry new platforms that replace old ones appear, if we want to make a reliable analysis for the next year, we're going to use this years' information, because it shows the latest trends, otherwise we will be considering data for games and platforms that are outdated."
   ]
  },
  {
   "cell_type": "code",
   "execution_count": 12,
   "id": "93d439b8",
   "metadata": {},
   "outputs": [
    {
     "name": "stdout",
     "output_type": "stream",
     "text": [
      "<class 'pandas.core.frame.DataFrame'>\n",
      "Int64Index: 502 entries, 94 to 16714\n",
      "Data columns (total 12 columns):\n",
      " #   Column           Non-Null Count  Dtype  \n",
      "---  ------           --------------  -----  \n",
      " 0   name             502 non-null    object \n",
      " 1   platform         502 non-null    object \n",
      " 2   year_of_release  502 non-null    int64  \n",
      " 3   genre            502 non-null    object \n",
      " 4   na_sales         502 non-null    float64\n",
      " 5   eu_sales         502 non-null    float64\n",
      " 6   jp_sales         502 non-null    float64\n",
      " 7   other_sales      502 non-null    float64\n",
      " 8   critic_score     502 non-null    float64\n",
      " 9   user_score       502 non-null    float64\n",
      " 10  rating           502 non-null    object \n",
      " 11  total_sales      502 non-null    float64\n",
      "dtypes: float64(7), int64(1), object(4)\n",
      "memory usage: 51.0+ KB\n"
     ]
    }
   ],
   "source": [
    "# making a slice of the latest data\n",
    "latest_data = df.query('year_of_release == 2016')\n",
    "latest_data.info()"
   ]
  },
  {
   "cell_type": "markdown",
   "id": "0af5c2a3",
   "metadata": {},
   "source": [
    "We can start analyzing this data in order to draw useful information from it."
   ]
  },
  {
   "cell_type": "markdown",
   "id": "66f8894f",
   "metadata": {},
   "source": [
    "## Leading sales"
   ]
  },
  {
   "cell_type": "code",
   "execution_count": 13,
   "id": "2d17c8c1",
   "metadata": {},
   "outputs": [],
   "source": [
    "# obtain information about leaders in sales\n",
    "sales_leaders = latest_data.groupby('platform', as_index=False).sum().sort_values('total_sales', ascending=False)"
   ]
  },
  {
   "cell_type": "code",
   "execution_count": 14,
   "id": "809191b1",
   "metadata": {},
   "outputs": [
    {
     "data": {
      "image/png": "[encoded data removed]",
      "text/plain": [
       "<Figure size 576x576 with 1 Axes>"
      ]
     },
     "metadata": {
      "needs_background": "light"
     },
     "output_type": "display_data"
    }
   ],
   "source": [
    "plt.figure(figsize=(8,8))\n",
    "sns.barplot(x=sales_leaders['platform'], y=sales_leaders['total_sales'])\n",
    "plt.title('Total sales by platform')\n",
    "plt.xlabel('Platform')\n",
    "plt.ylabel('Sales (millions of USD)')\n",
    "plt.show()"
   ]
  },
  {
   "cell_type": "markdown",
   "id": "d4e62cf0",
   "metadata": {},
   "source": [
    "Now, we'll analyze the top 2 sales leaders in order to see their trendings."
   ]
  },
  {
   "cell_type": "code",
   "execution_count": 15,
   "id": "2f19f196",
   "metadata": {},
   "outputs": [
    {
     "data": {
      "image/png": "[encoded data removed]",
      "text/plain": [
       "<Figure size 576x576 with 1 Axes>"
      ]
     },
     "metadata": {
      "needs_background": "light"
     },
     "output_type": "display_data"
    },
    {
     "data": {
      "image/png": "[encoded data removed]",
      "text/plain": [
       "<Figure size 576x576 with 1 Axes>"
      ]
     },
     "metadata": {
      "needs_background": "light"
     },
     "output_type": "display_data"
    }
   ],
   "source": [
    "ps4_data = df[df['platform'] == 'PS4'][['year_of_release','total_sales']]\n",
    "ps4_data = ps4_data.groupby('year_of_release').sum()\n",
    "\n",
    "xone_data = df[df['platform'] == 'XOne'][['year_of_release','total_sales']]\n",
    "xone_data = xone_data.groupby('year_of_release').sum()\n",
    "\n",
    "\n",
    "# plotting the trends\n",
    "plt.figure(figsize=(8,8))\n",
    "sns.lineplot(data=ps4_data)\n",
    "plt.xticks(rotation=90)\n",
    "plt.title('PS4 - Total sales')\n",
    "plt.xlabel('Year')\n",
    "plt.ylabel('Sales (millions of USD)')\n",
    "plt.show()\n",
    "\n",
    "plt.figure(figsize=(8,8))\n",
    "sns.lineplot(data=xone_data)\n",
    "plt.xticks(rotation=90)\n",
    "plt.title('Xbox One - Total sales')\n",
    "plt.xlabel('Year')\n",
    "plt.ylabel('Sales (millions of USD)')\n",
    "plt.show()"
   ]
  },
  {
   "cell_type": "markdown",
   "id": "44eecb4c",
   "metadata": {},
   "source": [
    "The two most popular platforms show a decreasing in sales in recent years. Given that PS4 was the top sales platform for 2016 by far, it seems reasonable to think that even if there's a decrease in sales, this platform is the best for launching new games into the market."
   ]
  },
  {
   "cell_type": "code",
   "execution_count": 16,
   "id": "8700f3ef",
   "metadata": {},
   "outputs": [
    {
     "data": {
      "image/png": "[encoded data removed]",
      "text/plain": [
       "<Figure size 576x576 with 1 Axes>"
      ]
     },
     "metadata": {
      "needs_background": "light"
     },
     "output_type": "display_data"
    },
    {
     "data": {
      "image/png": "[encoded data removed]",
      "text/plain": [
       "<Figure size 576x576 with 1 Axes>"
      ]
     },
     "metadata": {
      "needs_background": "light"
     },
     "output_type": "display_data"
    }
   ],
   "source": [
    "platforms = ['PS4', 'XOne']\n",
    "data = df.query('platform in @platforms')\n",
    "plt.figure(figsize=(8,8))\n",
    "sns.boxplot(data=data, x='platform', y='total_sales')\n",
    "plt.title('Global sales for all games')\n",
    "plt.xlabel('Platform')\n",
    "plt.ylabel('Sales (millions of USD)')\n",
    "plt.show()\n",
    "\n",
    "plt.figure(figsize=(8,8))\n",
    "sns.boxplot(data=data, x='platform', y='total_sales', showfliers=False)\n",
    "plt.title('Global sales for all games (No outliers)')\n",
    "plt.xlabel('Platform')\n",
    "plt.ylabel('Sales (millions of USD)')\n",
    "plt.show()"
   ]
  },
  {
   "cell_type": "markdown",
   "id": "852751d8",
   "metadata": {},
   "source": [
    "These boxplots show that the total sales for the top 2 sales leaders of 2016 are very similar. The IQR and the median for both platforms are about the same. The difference? The outliers. PS4 sold many high-price games, thusly the median of sales between the two platforms is very different."
   ]
  },
  {
   "cell_type": "markdown",
   "id": "14b9cce1",
   "metadata": {},
   "source": [
    "## The effect of critic and user scores on sales"
   ]
  },
  {
   "cell_type": "code",
   "execution_count": 17,
   "id": "fbebdac0",
   "metadata": {},
   "outputs": [
    {
     "data": {
      "image/png": "[encoded data removed]",
      "text/plain": [
       "<Figure size 576x576 with 1 Axes>"
      ]
     },
     "metadata": {
      "needs_background": "light"
     },
     "output_type": "display_data"
    }
   ],
   "source": [
    "ps4_data = df.query('platform == \"PS4\"')\n",
    "plt.figure(figsize=(8,8))\n",
    "sns.regplot(data=ps4_data, x='critic_score', y='total_sales')\n",
    "plt.title('Critic scores and sales')\n",
    "plt.xlabel('Score')\n",
    "plt.ylabel('Sales (millions of USD)')\n",
    "plt.show()"
   ]
  },
  {
   "cell_type": "code",
   "execution_count": 18,
   "id": "f36d3edb",
   "metadata": {},
   "outputs": [
    {
     "data": {
      "text/html": [
       "<div>\n",
       "<style scoped>\n",
       "    .dataframe tbody tr th:only-of-type {\n",
       "        vertical-align: middle;\n",
       "    }\n",
       "\n",
       "    .dataframe tbody tr th {\n",
       "        vertical-align: top;\n",
       "    }\n",
       "\n",
       "    .dataframe thead th {\n",
       "        text-align: right;\n",
       "    }\n",
       "</style>\n",
       "<table border=\"1\" class=\"dataframe\">\n",
       "  <thead>\n",
       "    <tr style=\"text-align: right;\">\n",
       "      <th></th>\n",
       "      <th>critic_score</th>\n",
       "      <th>total_sales</th>\n",
       "    </tr>\n",
       "  </thead>\n",
       "  <tbody>\n",
       "    <tr>\n",
       "      <th>critic_score</th>\n",
       "      <td>1.000000</td>\n",
       "      <td>0.363185</td>\n",
       "    </tr>\n",
       "    <tr>\n",
       "      <th>total_sales</th>\n",
       "      <td>0.363185</td>\n",
       "      <td>1.000000</td>\n",
       "    </tr>\n",
       "  </tbody>\n",
       "</table>\n",
       "</div>"
      ],
      "text/plain": [
       "              critic_score  total_sales\n",
       "critic_score      1.000000     0.363185\n",
       "total_sales       0.363185     1.000000"
      ]
     },
     "execution_count": 18,
     "metadata": {},
     "output_type": "execute_result"
    }
   ],
   "source": [
    "# calculate the correlation between the two variales\n",
    "ps4_data[['critic_score', 'total_sales']].corr()"
   ]
  },
  {
   "cell_type": "markdown",
   "id": "ab2700eb",
   "metadata": {},
   "source": [
    "Indeed, there's a positive correlation between the critic score and the total sales. However, let us note that the highest selling game got a score of around 65."
   ]
  },
  {
   "cell_type": "code",
   "execution_count": 19,
   "id": "4ac650ad",
   "metadata": {},
   "outputs": [
    {
     "data": {
      "image/png": "[encoded data removed]",
      "text/plain": [
       "<Figure size 576x576 with 1 Axes>"
      ]
     },
     "metadata": {
      "needs_background": "light"
     },
     "output_type": "display_data"
    }
   ],
   "source": [
    "ps4_data = df.query('platform == \"PS4\"')\n",
    "plt.figure(figsize=(8,8))\n",
    "sns.regplot(data=ps4_data, x='user_score', y='total_sales')\n",
    "plt.title('Users scores and sales')\n",
    "plt.xlabel('Score')\n",
    "plt.ylabel('Sales (millions of USD)')\n",
    "plt.show()"
   ]
  },
  {
   "cell_type": "code",
   "execution_count": 20,
   "id": "9445a919",
   "metadata": {},
   "outputs": [
    {
     "data": {
      "text/html": [
       "<div>\n",
       "<style scoped>\n",
       "    .dataframe tbody tr th:only-of-type {\n",
       "        vertical-align: middle;\n",
       "    }\n",
       "\n",
       "    .dataframe tbody tr th {\n",
       "        vertical-align: top;\n",
       "    }\n",
       "\n",
       "    .dataframe thead th {\n",
       "        text-align: right;\n",
       "    }\n",
       "</style>\n",
       "<table border=\"1\" class=\"dataframe\">\n",
       "  <thead>\n",
       "    <tr style=\"text-align: right;\">\n",
       "      <th></th>\n",
       "      <th>user_score</th>\n",
       "      <th>total_sales</th>\n",
       "    </tr>\n",
       "  </thead>\n",
       "  <tbody>\n",
       "    <tr>\n",
       "      <th>user_score</th>\n",
       "      <td>1.000000</td>\n",
       "      <td>-0.022364</td>\n",
       "    </tr>\n",
       "    <tr>\n",
       "      <th>total_sales</th>\n",
       "      <td>-0.022364</td>\n",
       "      <td>1.000000</td>\n",
       "    </tr>\n",
       "  </tbody>\n",
       "</table>\n",
       "</div>"
      ],
      "text/plain": [
       "             user_score  total_sales\n",
       "user_score     1.000000    -0.022364\n",
       "total_sales   -0.022364     1.000000"
      ]
     },
     "execution_count": 20,
     "metadata": {},
     "output_type": "execute_result"
    }
   ],
   "source": [
    "# calculate the correlation between the two variales\n",
    "ps4_data[['user_score', 'total_sales']].corr()"
   ]
  },
  {
   "cell_type": "markdown",
   "id": "272b1245",
   "metadata": {},
   "source": [
    "A possibly surprising result: scores given by users do not affect a game's sales. It seems that scores given by experts (the critics) influence more on a game's sales than that of regular users."
   ]
  },
  {
   "cell_type": "markdown",
   "id": "e0907835",
   "metadata": {},
   "source": [
    "## Comparing games across different platforms"
   ]
  },
  {
   "cell_type": "code",
   "execution_count": 21,
   "id": "921b29ad",
   "metadata": {},
   "outputs": [
    {
     "data": {
      "text/html": [
       "<div>\n",
       "<style scoped>\n",
       "    .dataframe tbody tr th:only-of-type {\n",
       "        vertical-align: middle;\n",
       "    }\n",
       "\n",
       "    .dataframe tbody tr th {\n",
       "        vertical-align: top;\n",
       "    }\n",
       "\n",
       "    .dataframe thead th {\n",
       "        text-align: right;\n",
       "    }\n",
       "</style>\n",
       "<table border=\"1\" class=\"dataframe\">\n",
       "  <thead>\n",
       "    <tr style=\"text-align: right;\">\n",
       "      <th>platform</th>\n",
       "      <th>PS4</th>\n",
       "      <th>XOne</th>\n",
       "    </tr>\n",
       "    <tr>\n",
       "      <th>name</th>\n",
       "      <th></th>\n",
       "      <th></th>\n",
       "    </tr>\n",
       "  </thead>\n",
       "  <tbody>\n",
       "    <tr>\n",
       "      <th>7 Days to Die</th>\n",
       "      <td>0.14</td>\n",
       "      <td>0.05</td>\n",
       "    </tr>\n",
       "    <tr>\n",
       "      <th>Adventure Time: Finn &amp; Jake Investigations</th>\n",
       "      <td>0.10</td>\n",
       "      <td>0.05</td>\n",
       "    </tr>\n",
       "    <tr>\n",
       "      <th>Agatha Christie's The ABC Murders</th>\n",
       "      <td>0.02</td>\n",
       "      <td>0.01</td>\n",
       "    </tr>\n",
       "    <tr>\n",
       "      <th>Alien: Isolation</th>\n",
       "      <td>1.12</td>\n",
       "      <td>0.50</td>\n",
       "    </tr>\n",
       "    <tr>\n",
       "      <th>Angry Birds Star Wars</th>\n",
       "      <td>0.22</td>\n",
       "      <td>0.17</td>\n",
       "    </tr>\n",
       "    <tr>\n",
       "      <th>...</th>\n",
       "      <td>...</td>\n",
       "      <td>...</td>\n",
       "    </tr>\n",
       "    <tr>\n",
       "      <th>Wolfenstein: The Old Blood</th>\n",
       "      <td>0.43</td>\n",
       "      <td>0.15</td>\n",
       "    </tr>\n",
       "    <tr>\n",
       "      <th>Worms: WMD</th>\n",
       "      <td>0.03</td>\n",
       "      <td>0.01</td>\n",
       "    </tr>\n",
       "    <tr>\n",
       "      <th>XCOM 2</th>\n",
       "      <td>0.14</td>\n",
       "      <td>0.04</td>\n",
       "    </tr>\n",
       "    <tr>\n",
       "      <th>ZombiU</th>\n",
       "      <td>0.06</td>\n",
       "      <td>0.01</td>\n",
       "    </tr>\n",
       "    <tr>\n",
       "      <th>Zombie Army Trilogy</th>\n",
       "      <td>0.20</td>\n",
       "      <td>0.11</td>\n",
       "    </tr>\n",
       "  </tbody>\n",
       "</table>\n",
       "<p>217 rows × 2 columns</p>\n",
       "</div>"
      ],
      "text/plain": [
       "platform                                     PS4  XOne\n",
       "name                                                  \n",
       "7 Days to Die                               0.14  0.05\n",
       "Adventure Time: Finn & Jake Investigations  0.10  0.05\n",
       "Agatha Christie's The ABC Murders           0.02  0.01\n",
       "Alien: Isolation                            1.12  0.50\n",
       "Angry Birds Star Wars                       0.22  0.17\n",
       "...                                          ...   ...\n",
       "Wolfenstein: The Old Blood                  0.43  0.15\n",
       "Worms: WMD                                  0.03  0.01\n",
       "XCOM 2                                      0.14  0.04\n",
       "ZombiU                                      0.06  0.01\n",
       "Zombie Army Trilogy                         0.20  0.11\n",
       "\n",
       "[217 rows x 2 columns]"
      ]
     },
     "execution_count": 21,
     "metadata": {},
     "output_type": "execute_result"
    }
   ],
   "source": [
    "# creating a dataframe with games and their prices for PS4 and XOne\n",
    "game_sales_by_platform = data.pivot_table(index='name', columns='platform', values='total_sales')\n",
    "\n",
    "\n",
    "# we want only games that were released for both platforms\n",
    "game_sales_by_platform.dropna(inplace=True)\n",
    "\n",
    "\n",
    "# checking the results\n",
    "game_sales_by_platform"
   ]
  },
  {
   "cell_type": "markdown",
   "id": "30e209aa",
   "metadata": {},
   "source": [
    "Let us take a closer look at these sales."
   ]
  },
  {
   "cell_type": "code",
   "execution_count": 22,
   "id": "179dd8f9",
   "metadata": {},
   "outputs": [
    {
     "data": {
      "text/plain": [
       "platform\n",
       "PS4     1.181336\n",
       "XOne    0.596129\n",
       "dtype: float64"
      ]
     },
     "execution_count": 22,
     "metadata": {},
     "output_type": "execute_result"
    }
   ],
   "source": [
    "game_sales_by_platform.mean()"
   ]
  },
  {
   "cell_type": "markdown",
   "id": "6156eee1",
   "metadata": {},
   "source": [
    "We can see that PS4 has a greater mean (118,133 millions of dollars) than games of XOne, i.e., games released for PS4 are sold at higher prices."
   ]
  },
  {
   "cell_type": "markdown",
   "id": "6fd9357e",
   "metadata": {},
   "source": [
    "## Genres\n",
    "\n",
    "Now that we have the information that PS4 is the best platform to release games for, we'll take a look at what kind of games are more profitable."
   ]
  },
  {
   "cell_type": "code",
   "execution_count": 23,
   "id": "50fa1a9d",
   "metadata": {},
   "outputs": [
    {
     "data": {
      "text/plain": [
       "genre\n",
       "Shooter         38.22\n",
       "Action          30.11\n",
       "Sports          23.49\n",
       "Role-Playing    18.18\n",
       "Fighting         4.47\n",
       "Adventure        3.82\n",
       "Platform         3.23\n",
       "Racing           2.79\n",
       "Misc             2.60\n",
       "Simulation       1.89\n",
       "Strategy         1.13\n",
       "Puzzle           0.01\n",
       "Name: total_sales, dtype: float64"
      ]
     },
     "execution_count": 23,
     "metadata": {},
     "output_type": "execute_result"
    }
   ],
   "source": [
    "latest_data.groupby('genre').sum()['total_sales'].sort_values(ascending=False)"
   ]
  },
  {
   "cell_type": "markdown",
   "id": "c0b9a158",
   "metadata": {},
   "source": [
    "We have our top 4 best sellers: Shooter, Action, Sports, and Role-Playing."
   ]
  },
  {
   "cell_type": "markdown",
   "id": "eb43975a",
   "metadata": {},
   "source": [
    "## User profile by region\n",
    "\n",
    "Let us create a user profile for each of the regions in our dataset. This will give us insight on user's behavior according to user's area."
   ]
  },
  {
   "cell_type": "code",
   "execution_count": 24,
   "id": "ffd1fe0a",
   "metadata": {},
   "outputs": [
    {
     "data": {
      "text/html": [
       "<div>\n",
       "<style scoped>\n",
       "    .dataframe tbody tr th:only-of-type {\n",
       "        vertical-align: middle;\n",
       "    }\n",
       "\n",
       "    .dataframe tbody tr th {\n",
       "        vertical-align: top;\n",
       "    }\n",
       "\n",
       "    .dataframe thead th {\n",
       "        text-align: right;\n",
       "    }\n",
       "</style>\n",
       "<table border=\"1\" class=\"dataframe\">\n",
       "  <thead>\n",
       "    <tr style=\"text-align: right;\">\n",
       "      <th></th>\n",
       "      <th>na_sales</th>\n",
       "      <th>eu_sales</th>\n",
       "      <th>jp_sales</th>\n",
       "      <th>total_sales</th>\n",
       "    </tr>\n",
       "    <tr>\n",
       "      <th>platform</th>\n",
       "      <th></th>\n",
       "      <th></th>\n",
       "      <th></th>\n",
       "      <th></th>\n",
       "    </tr>\n",
       "  </thead>\n",
       "  <tbody>\n",
       "    <tr>\n",
       "      <th>PS4</th>\n",
       "      <td>21.49</td>\n",
       "      <td>31.78</td>\n",
       "      <td>5.74</td>\n",
       "      <td>69.25</td>\n",
       "    </tr>\n",
       "    <tr>\n",
       "      <th>XOne</th>\n",
       "      <td>14.27</td>\n",
       "      <td>9.63</td>\n",
       "      <td>0.01</td>\n",
       "      <td>26.15</td>\n",
       "    </tr>\n",
       "    <tr>\n",
       "      <th>3DS</th>\n",
       "      <td>4.14</td>\n",
       "      <td>2.33</td>\n",
       "      <td>8.03</td>\n",
       "      <td>15.14</td>\n",
       "    </tr>\n",
       "    <tr>\n",
       "      <th>PC</th>\n",
       "      <td>1.36</td>\n",
       "      <td>3.53</td>\n",
       "      <td>0.00</td>\n",
       "      <td>5.25</td>\n",
       "    </tr>\n",
       "    <tr>\n",
       "      <th>WiiU</th>\n",
       "      <td>2.10</td>\n",
       "      <td>1.48</td>\n",
       "      <td>0.67</td>\n",
       "      <td>4.60</td>\n",
       "    </tr>\n",
       "  </tbody>\n",
       "</table>\n",
       "</div>"
      ],
      "text/plain": [
       "          na_sales  eu_sales  jp_sales  total_sales\n",
       "platform                                           \n",
       "PS4          21.49     31.78      5.74        69.25\n",
       "XOne         14.27      9.63      0.01        26.15\n",
       "3DS           4.14      2.33      8.03        15.14\n",
       "PC            1.36      3.53      0.00         5.25\n",
       "WiiU          2.10      1.48      0.67         4.60"
      ]
     },
     "execution_count": 24,
     "metadata": {},
     "output_type": "execute_result"
    }
   ],
   "source": [
    "user_profile_platforms = latest_data.groupby('platform').sum()[['na_sales', 'eu_sales', 'jp_sales', 'total_sales']]\n",
    "user_profile_platforms.sort_values('total_sales', ascending=False).head()"
   ]
  },
  {
   "cell_type": "markdown",
   "id": "c177055a",
   "metadata": {},
   "source": [
    "The EU leads sales of PS4 games, followed by NA. However, XOne sales are more popular in NA. In Japan, the most popular platform is 3DS, and they don't use PC at all!"
   ]
  },
  {
   "cell_type": "markdown",
   "id": "ffe15b62",
   "metadata": {},
   "source": [
    "## User profile by genre"
   ]
  },
  {
   "cell_type": "markdown",
   "id": "d21d797a",
   "metadata": {},
   "source": [
    "Now, let us take a look at user's behavior regarding the game's genre."
   ]
  },
  {
   "cell_type": "code",
   "execution_count": 25,
   "id": "211c94c2",
   "metadata": {},
   "outputs": [
    {
     "data": {
      "text/html": [
       "<div>\n",
       "<style scoped>\n",
       "    .dataframe tbody tr th:only-of-type {\n",
       "        vertical-align: middle;\n",
       "    }\n",
       "\n",
       "    .dataframe tbody tr th {\n",
       "        vertical-align: top;\n",
       "    }\n",
       "\n",
       "    .dataframe thead th {\n",
       "        text-align: right;\n",
       "    }\n",
       "</style>\n",
       "<table border=\"1\" class=\"dataframe\">\n",
       "  <thead>\n",
       "    <tr style=\"text-align: right;\">\n",
       "      <th></th>\n",
       "      <th>na_sales</th>\n",
       "      <th>eu_sales</th>\n",
       "      <th>jp_sales</th>\n",
       "      <th>total_sales</th>\n",
       "    </tr>\n",
       "    <tr>\n",
       "      <th>genre</th>\n",
       "      <th></th>\n",
       "      <th></th>\n",
       "      <th></th>\n",
       "      <th></th>\n",
       "    </tr>\n",
       "  </thead>\n",
       "  <tbody>\n",
       "    <tr>\n",
       "      <th>Shooter</th>\n",
       "      <td>16.24</td>\n",
       "      <td>15.90</td>\n",
       "      <td>1.06</td>\n",
       "      <td>38.22</td>\n",
       "    </tr>\n",
       "    <tr>\n",
       "      <th>Action</th>\n",
       "      <td>9.29</td>\n",
       "      <td>10.68</td>\n",
       "      <td>7.07</td>\n",
       "      <td>30.11</td>\n",
       "    </tr>\n",
       "    <tr>\n",
       "      <th>Sports</th>\n",
       "      <td>7.54</td>\n",
       "      <td>12.01</td>\n",
       "      <td>0.92</td>\n",
       "      <td>23.49</td>\n",
       "    </tr>\n",
       "    <tr>\n",
       "      <th>Role-Playing</th>\n",
       "      <td>5.89</td>\n",
       "      <td>4.28</td>\n",
       "      <td>6.61</td>\n",
       "      <td>18.18</td>\n",
       "    </tr>\n",
       "    <tr>\n",
       "      <th>Fighting</th>\n",
       "      <td>1.84</td>\n",
       "      <td>1.34</td>\n",
       "      <td>0.75</td>\n",
       "      <td>4.47</td>\n",
       "    </tr>\n",
       "  </tbody>\n",
       "</table>\n",
       "</div>"
      ],
      "text/plain": [
       "              na_sales  eu_sales  jp_sales  total_sales\n",
       "genre                                                  \n",
       "Shooter          16.24     15.90      1.06        38.22\n",
       "Action            9.29     10.68      7.07        30.11\n",
       "Sports            7.54     12.01      0.92        23.49\n",
       "Role-Playing      5.89      4.28      6.61        18.18\n",
       "Fighting          1.84      1.34      0.75         4.47"
      ]
     },
     "execution_count": 25,
     "metadata": {},
     "output_type": "execute_result"
    }
   ],
   "source": [
    "user_profile_genre = latest_data.groupby('genre').sum()[['na_sales', 'eu_sales', 'jp_sales', 'total_sales']]\n",
    "user_profile_genre.sort_values('total_sales', ascending=False).head()"
   ]
  },
  {
   "cell_type": "markdown",
   "id": "5b184b75",
   "metadata": {},
   "source": [
    "Shooter games are more popular in NA and also in the EU than in Japan, with a huge difference in sales for the Japanese market. Action games are sold best in the EU as well as Sports games. Action games are more popular in Japan. Role-playing games are equally popular across all regions, as well as Fighting games."
   ]
  },
  {
   "cell_type": "markdown",
   "id": "6b16896e",
   "metadata": {},
   "source": [
    "## User profile by rating (ESRB)\n",
    "\n",
    "This time, we'll take a look at how customer's behavior varies across regions due to the game's rating."
   ]
  },
  {
   "cell_type": "code",
   "execution_count": 26,
   "id": "1343fc5a",
   "metadata": {},
   "outputs": [
    {
     "data": {
      "text/html": [
       "<div>\n",
       "<style scoped>\n",
       "    .dataframe tbody tr th:only-of-type {\n",
       "        vertical-align: middle;\n",
       "    }\n",
       "\n",
       "    .dataframe tbody tr th {\n",
       "        vertical-align: top;\n",
       "    }\n",
       "\n",
       "    .dataframe thead th {\n",
       "        text-align: right;\n",
       "    }\n",
       "</style>\n",
       "<table border=\"1\" class=\"dataframe\">\n",
       "  <thead>\n",
       "    <tr style=\"text-align: right;\">\n",
       "      <th></th>\n",
       "      <th>na_sales</th>\n",
       "      <th>eu_sales</th>\n",
       "      <th>jp_sales</th>\n",
       "      <th>total_sales</th>\n",
       "    </tr>\n",
       "    <tr>\n",
       "      <th>rating</th>\n",
       "      <th></th>\n",
       "      <th></th>\n",
       "      <th></th>\n",
       "      <th></th>\n",
       "    </tr>\n",
       "  </thead>\n",
       "  <tbody>\n",
       "    <tr>\n",
       "      <th>E</th>\n",
       "      <td>16.50</td>\n",
       "      <td>21.08</td>\n",
       "      <td>15.39</td>\n",
       "      <td>58.34</td>\n",
       "    </tr>\n",
       "    <tr>\n",
       "      <th>M</th>\n",
       "      <td>15.67</td>\n",
       "      <td>16.54</td>\n",
       "      <td>1.20</td>\n",
       "      <td>38.35</td>\n",
       "    </tr>\n",
       "    <tr>\n",
       "      <th>T</th>\n",
       "      <td>8.95</td>\n",
       "      <td>9.79</td>\n",
       "      <td>2.27</td>\n",
       "      <td>24.12</td>\n",
       "    </tr>\n",
       "    <tr>\n",
       "      <th>E10+</th>\n",
       "      <td>3.81</td>\n",
       "      <td>3.81</td>\n",
       "      <td>0.45</td>\n",
       "      <td>9.13</td>\n",
       "    </tr>\n",
       "  </tbody>\n",
       "</table>\n",
       "</div>"
      ],
      "text/plain": [
       "        na_sales  eu_sales  jp_sales  total_sales\n",
       "rating                                           \n",
       "E          16.50     21.08     15.39        58.34\n",
       "M          15.67     16.54      1.20        38.35\n",
       "T           8.95      9.79      2.27        24.12\n",
       "E10+        3.81      3.81      0.45         9.13"
      ]
     },
     "execution_count": 26,
     "metadata": {},
     "output_type": "execute_result"
    }
   ],
   "source": [
    "user_profile_rating = latest_data.groupby('rating').sum()[['na_sales', 'eu_sales', 'jp_sales', 'total_sales']]\n",
    "user_profile_rating.sort_values('total_sales', ascending=False).head()"
   ]
  },
  {
   "cell_type": "markdown",
   "id": "7ee4d960",
   "metadata": {},
   "source": [
    "In the EU, *Everyone* rated games are more popular, whereas in North America and Japan they're equally popular. *Mature* rated games are equally popular in the EU and NA, whereas in Japan tehy don't sell very well. The same goes for *Teen* rated games and *Everyone 10+* rated games."
   ]
  },
  {
   "cell_type": "markdown",
   "id": "03ff0ace",
   "metadata": {},
   "source": [
    "# Hypothesis testing\n",
    "\n",
    "Now, we want to test two hypothesis."
   ]
  },
  {
   "cell_type": "markdown",
   "id": "107a2294",
   "metadata": {},
   "source": [
    "## The mean of the user scores for XOne and PC is the same"
   ]
  },
  {
   "cell_type": "markdown",
   "id": "1924a59d",
   "metadata": {},
   "source": [
    ">**Null hypothesis**: The mean of the user scores for XOne and PC is the same\n",
    "\n",
    ">**Alternate hypothesis**: The mean of the user scores for XOne and PC is different"
   ]
  },
  {
   "cell_type": "markdown",
   "id": "da2b98aa",
   "metadata": {},
   "source": [
    "In order to test this hypothesis, and since we are testing for the equality of the mean for two pupolations, we're going to use the \"ttest_ind\" method from the \"scipy\" library. But first, we need to obtain the average earnings, and check if the variances for the populations are the same or not, because the aforementioned method requieres as input the statemenet about the equality for those variances."
   ]
  },
  {
   "cell_type": "code",
   "execution_count": 27,
   "id": "1ad20a2b",
   "metadata": {},
   "outputs": [
    {
     "name": "stdout",
     "output_type": "stream",
     "text": [
      "Variance for XOne user scores: 1.822\n",
      "Variance for PC user scores: 2.548\n"
     ]
    }
   ],
   "source": [
    "xone = latest_data.query('platform == \"XOne\"')\n",
    "pc = latest_data.query('platform == \"PC\"')\n",
    "print(\"Variance for XOne user scores:\", np.var(xone['user_score']).round(3))\n",
    "print(\"Variance for PC user scores:\", np.var(pc['user_score']).round(3))"
   ]
  },
  {
   "cell_type": "markdown",
   "id": "0cdbc853",
   "metadata": {},
   "source": [
    "The variances are not the same. We can test now."
   ]
  },
  {
   "cell_type": "code",
   "execution_count": 28,
   "id": "a75353ed",
   "metadata": {},
   "outputs": [
    {
     "name": "stdout",
     "output_type": "stream",
     "text": [
      "p-value: 0.30824756448378277\n",
      "We reject the null hypothesis\n"
     ]
    }
   ],
   "source": [
    "# statistical significance of 5%\n",
    "alpha = 0.05\n",
    "\n",
    "results = st.ttest_ind(xone['user_score'], \\\n",
    "                       pc['user_score'], \\\n",
    "                       equal_var=False)\n",
    "\n",
    "\n",
    "# printing the p-value\n",
    "print('p-value:', results.pvalue)\n",
    "\n",
    "\n",
    "# checking for the condition for accepting or rejecting the null hypothesis\n",
    "if results.pvalue < alpha:\n",
    "    print(\"We do not reject the null hypothesis\")\n",
    "else:\n",
    "    print(\"We reject the null hypothesis\")"
   ]
  },
  {
   "cell_type": "markdown",
   "id": "f3b7cc90",
   "metadata": {},
   "source": [
    "There's statistically significant evidence that the means for the user scores for the platforms XOne and PC are different."
   ]
  },
  {
   "cell_type": "markdown",
   "id": "bcf7a8b6",
   "metadata": {},
   "source": [
    "## The mean of the user scores for genres *Action* and *Sports* is different"
   ]
  },
  {
   "cell_type": "markdown",
   "id": "bb0d0a35",
   "metadata": {},
   "source": [
    ">**Null hypothesis**: The mean of the user scores for genres *Action* and *Sports* is different\n",
    "\n",
    ">**Alternate hypothesis**: The mean of the user scores for genres *Action* and *Sports* is the same"
   ]
  },
  {
   "cell_type": "code",
   "execution_count": 29,
   "id": "136a3d05",
   "metadata": {},
   "outputs": [
    {
     "name": "stdout",
     "output_type": "stream",
     "text": [
      "Variance for Action genre: 1.024\n",
      "Variance for Sports genre: 3.557\n"
     ]
    }
   ],
   "source": [
    "action = latest_data.query('genre == \"Action\"')\n",
    "sports = latest_data.query('genre == \"Sports\"')\n",
    "print(\"Variance for Action genre:\", np.var(action['user_score']).round(3))\n",
    "print(\"Variance for Sports genre:\", np.var(sports['user_score']).round(3))"
   ]
  },
  {
   "cell_type": "markdown",
   "id": "f0a87dc8",
   "metadata": {},
   "source": [
    "The variances are not the same. We can test now."
   ]
  },
  {
   "cell_type": "code",
   "execution_count": 30,
   "id": "6113ba03",
   "metadata": {},
   "outputs": [
    {
     "name": "stdout",
     "output_type": "stream",
     "text": [
      "p-value: 0.003242929266841647\n",
      "We do not reject the null hypothesis\n"
     ]
    }
   ],
   "source": [
    "# statistical significance of 5%\n",
    "alpha = 0.05\n",
    "\n",
    "results = st.ttest_ind(action['user_score'], \\\n",
    "                       sports['user_score'], \\\n",
    "                       equal_var=False)\n",
    "\n",
    "\n",
    "# printing the p-value\n",
    "print('p-value:', results.pvalue)\n",
    "\n",
    "\n",
    "# checking for the condition for accepting or rejecting the null hypothesis\n",
    "if results.pvalue < alpha:\n",
    "    print(\"We do not reject the null hypothesis\")\n",
    "else:\n",
    "    print(\"We reject the null hypothesis\")"
   ]
  },
  {
   "cell_type": "markdown",
   "id": "e4210b70",
   "metadata": {},
   "source": [
    "There's statistically significant evidence that the means for the user scores for the *Action* and *Sports* genres are different."
   ]
  },
  {
   "cell_type": "markdown",
   "id": "6a4af34a",
   "metadata": {},
   "source": [
    "# Conclusion\n",
    "\n",
    "After an initial look at the data, we fixed some issues present in it. We changed the column's names for better handling of them, we deleted some rows that had missing information. Other rows with missing values presented a pattern: critic scores, user scores, and rating were missing in them. We filled them based on other rows, taking into account the genre of the game in question.\n",
    "\n",
    "After cleaning our data, we started analyzing it by looking at sales trends over the years by each platform. This helped us to pick the most popular and profitable platform to work with. PS4 was this platform. This helps us knowing what platform to choose when thinking of future games' releases. After selecting PS4 as our platform, we analyzed games released for this platform. We investigated how the critic and user scores affected the sales of a game, finding that critic scores have a correlation with sales, whereas user scores do not affect sales at all. Then, we found how a game, released for different platforms, does on sales. We found out that overall, games released for PS4 are more profitable, thus reinforcing the fact that for an advertising campaign, PS4 is the platform of choice.\n",
    "\n",
    "Then, the most profitable genres were investigated, finding that *Shooter, Action, Sports*, and *Role-Playing* genres are the most profitable. This will help the company in their advertising campaingns.\n",
    "\n",
    "After all these results, we studied user's profiles across the regions of North America, the European Union, and Japan. Our research brought about the facts that PS4 is indeed the most popular platform, *Shooter* games, and *Everyone* rated games are the most profitable.\n",
    "\n",
    "Finally, we tested two hypothesis regarding user scores, with our findings being that the mean for user scores for XOne and PC platforms are different, and also that the mean for user scores for *Action* and *Sports* rated games are different as well."
   ]
  }
 ],
 "metadata": {
  "kernelspec": {
   "display_name": "Python 3 (ipykernel)",
   "language": "python",
   "name": "python3"
  },
  "language_info": {
   "codemirror_mode": {
    "name": "ipython",
    "version": 3
   },
   "file_extension": ".py",
   "mimetype": "text/x-python",
   "name": "python",
   "nbconvert_exporter": "python",
   "pygments_lexer": "ipython3",
   "version": "3.10.9"
  },
  "toc": {
   "base_numbering": 1,
   "nav_menu": {},
   "number_sections": true,
   "sideBar": true,
   "skip_h1_title": false,
   "title_cell": "Table of Contents",
   "title_sidebar": "Contents",
   "toc_cell": true,
   "toc_position": {},
   "toc_section_display": true,
   "toc_window_display": false
  }
 },
 "nbformat": 4,
 "nbformat_minor": 5
}
