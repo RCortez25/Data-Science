{
 "cells": [
  {
   "cell_type": "markdown",
   "id": "e301be3b",
   "metadata": {
    "toc": true
   },
   "source": [
    "<h1>Table of Contents<span class=\"tocSkip\"></span></h1>\n",
    "<div class=\"toc\"><ul class=\"toc-item\"><li><span><a href=\"#Introduction\" data-toc-modified-id=\"Introduction-4\">Introduction</a></span></li><li><span><a href=\"#General-information\" data-toc-modified-id=\"General-information-5\">General information</a></span><ul class=\"toc-item\"><li><span><a href=\"#Company-data\" data-toc-modified-id=\"Company-data-5.1\">Company data</a></span></li><li><span><a href=\"#Dropoff-data\" data-toc-modified-id=\"Dropoff-data-5.2\">Dropoff data</a></span></li></ul></li><li><span><a href=\"#Exploratory-data-analysis\" data-toc-modified-id=\"Exploratory-data-analysis-6\">Exploratory data analysis</a></span><ul class=\"toc-item\"><li><span><a href=\"#Top-10-dropoff-locations\" data-toc-modified-id=\"Top-10-dropoff-locations-6.1\">Top 10 dropoff locations</a></span></li><li><span><a href=\"#Top-10-companies\" data-toc-modified-id=\"Top-10-companies-6.2\">Top 10 companies</a></span></li></ul></li><li><span><a href=\"#Hypothesis-testing\" data-toc-modified-id=\"Hypothesis-testing-7\">Hypothesis testing</a></span></li><li><span><a href=\"#Conclusion\" data-toc-modified-id=\"Conclusion-8\">Conclusion</a></span></li></ul></div>"
   ]
  },
  {
   "cell_type": "markdown",
   "id": "6fbc3978",
   "metadata": {},
   "source": [
    "# Introduction\n",
    "\n",
    "**Zuber** is just launching its cab services in Chicago. We want to analyze data of the services offered by other companies in order to find useful patterns that can help our company making the right strategies and taking the right decisions.\n",
    "\n",
    "In the last part of our analysis, we'll take a look at how weather conditions affect trips from *Loop* to *O'Hare International Airport*."
   ]
  },
  {
   "cell_type": "markdown",
   "id": "d3a274b8",
   "metadata": {},
   "source": [
    "# General information"
   ]
  },
  {
   "cell_type": "code",
   "execution_count": 1,
   "id": "85815838",
   "metadata": {},
   "outputs": [],
   "source": [
    "# Importing custom libraries\n",
    "\n",
    "import pandas as pd\n",
    "import numpy as np\n",
    "from scipy import stats as st\n",
    "import matplotlib.pyplot as plt"
   ]
  },
  {
   "cell_type": "markdown",
   "id": "d20e4df3",
   "metadata": {},
   "source": [
    "## Company data\n",
    "\n",
    "We'll start by analyzing the dataset that contains information about the other cab companies."
   ]
  },
  {
   "cell_type": "code",
   "execution_count": 2,
   "id": "762dd282",
   "metadata": {},
   "outputs": [
    {
     "data": {
      "text/html": [
       "<div>\n",
       "<style scoped>\n",
       "    .dataframe tbody tr th:only-of-type {\n",
       "        vertical-align: middle;\n",
       "    }\n",
       "\n",
       "    .dataframe tbody tr th {\n",
       "        vertical-align: top;\n",
       "    }\n",
       "\n",
       "    .dataframe thead th {\n",
       "        text-align: right;\n",
       "    }\n",
       "</style>\n",
       "<table border=\"1\" class=\"dataframe\">\n",
       "  <thead>\n",
       "    <tr style=\"text-align: right;\">\n",
       "      <th></th>\n",
       "      <th>company_name</th>\n",
       "      <th>trips_amount</th>\n",
       "    </tr>\n",
       "  </thead>\n",
       "  <tbody>\n",
       "    <tr>\n",
       "      <th>0</th>\n",
       "      <td>Flash Cab</td>\n",
       "      <td>19558</td>\n",
       "    </tr>\n",
       "    <tr>\n",
       "      <th>1</th>\n",
       "      <td>Taxi Affiliation Services</td>\n",
       "      <td>11422</td>\n",
       "    </tr>\n",
       "    <tr>\n",
       "      <th>2</th>\n",
       "      <td>Medallion Leasing</td>\n",
       "      <td>10367</td>\n",
       "    </tr>\n",
       "    <tr>\n",
       "      <th>3</th>\n",
       "      <td>Yellow Cab</td>\n",
       "      <td>9888</td>\n",
       "    </tr>\n",
       "    <tr>\n",
       "      <th>4</th>\n",
       "      <td>Taxi Affiliation Service Yellow</td>\n",
       "      <td>9299</td>\n",
       "    </tr>\n",
       "  </tbody>\n",
       "</table>\n",
       "</div>"
      ],
      "text/plain": [
       "                      company_name  trips_amount\n",
       "0                        Flash Cab         19558\n",
       "1        Taxi Affiliation Services         11422\n",
       "2                Medallion Leasing         10367\n",
       "3                       Yellow Cab          9888\n",
       "4  Taxi Affiliation Service Yellow          9299"
      ]
     },
     "execution_count": 2,
     "metadata": {},
     "output_type": "execute_result"
    }
   ],
   "source": [
    "# Importing the data for each company\n",
    "companies_data = pd.read_csv('/datasets/project_sql_result_01.csv')\n",
    "\n",
    "# Taking a look at the dataset\n",
    "companies_data.head()"
   ]
  },
  {
   "cell_type": "code",
   "execution_count": 3,
   "id": "0f373abe",
   "metadata": {},
   "outputs": [
    {
     "name": "stdout",
     "output_type": "stream",
     "text": [
      "<class 'pandas.core.frame.DataFrame'>\n",
      "RangeIndex: 64 entries, 0 to 63\n",
      "Data columns (total 2 columns):\n",
      " #   Column        Non-Null Count  Dtype \n",
      "---  ------        --------------  ----- \n",
      " 0   company_name  64 non-null     object\n",
      " 1   trips_amount  64 non-null     int64 \n",
      "dtypes: int64(1), object(1)\n",
      "memory usage: 1.1+ KB\n"
     ]
    }
   ],
   "source": [
    "# Getting the general information of the dataset\n",
    "companies_data.info()"
   ]
  },
  {
   "cell_type": "markdown",
   "id": "7e8660b6",
   "metadata": {},
   "source": [
    "As we can see, there are no missing values and also the datatypes for each column are correct. We'll drop duplicate rows if any."
   ]
  },
  {
   "cell_type": "code",
   "execution_count": 4,
   "id": "e8ab42f3",
   "metadata": {},
   "outputs": [
    {
     "name": "stdout",
     "output_type": "stream",
     "text": [
      "<class 'pandas.core.frame.DataFrame'>\n",
      "RangeIndex: 64 entries, 0 to 63\n",
      "Data columns (total 2 columns):\n",
      " #   Column        Non-Null Count  Dtype \n",
      "---  ------        --------------  ----- \n",
      " 0   company_name  64 non-null     object\n",
      " 1   trips_amount  64 non-null     int64 \n",
      "dtypes: int64(1), object(1)\n",
      "memory usage: 1.1+ KB\n"
     ]
    }
   ],
   "source": [
    "companies_data.drop_duplicates()\n",
    "companies_data.info()"
   ]
  },
  {
   "cell_type": "markdown",
   "id": "d48d8053",
   "metadata": {},
   "source": [
    "## Dropoff data"
   ]
  },
  {
   "cell_type": "markdown",
   "id": "08bab49c",
   "metadata": {},
   "source": [
    "Now, we have a dataset that contains information about the locations where the companies offered their services. This will help us identify the most popular destinations users go to."
   ]
  },
  {
   "cell_type": "code",
   "execution_count": 5,
   "id": "1c6ec895",
   "metadata": {},
   "outputs": [
    {
     "data": {
      "text/html": [
       "<div>\n",
       "<style scoped>\n",
       "    .dataframe tbody tr th:only-of-type {\n",
       "        vertical-align: middle;\n",
       "    }\n",
       "\n",
       "    .dataframe tbody tr th {\n",
       "        vertical-align: top;\n",
       "    }\n",
       "\n",
       "    .dataframe thead th {\n",
       "        text-align: right;\n",
       "    }\n",
       "</style>\n",
       "<table border=\"1\" class=\"dataframe\">\n",
       "  <thead>\n",
       "    <tr style=\"text-align: right;\">\n",
       "      <th></th>\n",
       "      <th>dropoff_location_name</th>\n",
       "      <th>average_trips</th>\n",
       "    </tr>\n",
       "  </thead>\n",
       "  <tbody>\n",
       "    <tr>\n",
       "      <th>0</th>\n",
       "      <td>Loop</td>\n",
       "      <td>10727.466667</td>\n",
       "    </tr>\n",
       "    <tr>\n",
       "      <th>1</th>\n",
       "      <td>River North</td>\n",
       "      <td>9523.666667</td>\n",
       "    </tr>\n",
       "    <tr>\n",
       "      <th>2</th>\n",
       "      <td>Streeterville</td>\n",
       "      <td>6664.666667</td>\n",
       "    </tr>\n",
       "    <tr>\n",
       "      <th>3</th>\n",
       "      <td>West Loop</td>\n",
       "      <td>5163.666667</td>\n",
       "    </tr>\n",
       "    <tr>\n",
       "      <th>4</th>\n",
       "      <td>O'Hare</td>\n",
       "      <td>2546.900000</td>\n",
       "    </tr>\n",
       "  </tbody>\n",
       "</table>\n",
       "</div>"
      ],
      "text/plain": [
       "  dropoff_location_name  average_trips\n",
       "0                  Loop   10727.466667\n",
       "1           River North    9523.666667\n",
       "2         Streeterville    6664.666667\n",
       "3             West Loop    5163.666667\n",
       "4                O'Hare    2546.900000"
      ]
     },
     "execution_count": 5,
     "metadata": {},
     "output_type": "execute_result"
    }
   ],
   "source": [
    "# Importing the data containing information about the dropoffs\n",
    "dropoff_data = pd.read_csv('/datasets/project_sql_result_04.csv')\n",
    "\n",
    "# Taking a look at the dataset\n",
    "dropoff_data.head()"
   ]
  },
  {
   "cell_type": "code",
   "execution_count": 6,
   "id": "8bc183b9",
   "metadata": {},
   "outputs": [
    {
     "name": "stdout",
     "output_type": "stream",
     "text": [
      "<class 'pandas.core.frame.DataFrame'>\n",
      "RangeIndex: 94 entries, 0 to 93\n",
      "Data columns (total 2 columns):\n",
      " #   Column                 Non-Null Count  Dtype  \n",
      "---  ------                 --------------  -----  \n",
      " 0   dropoff_location_name  94 non-null     object \n",
      " 1   average_trips          94 non-null     float64\n",
      "dtypes: float64(1), object(1)\n",
      "memory usage: 1.6+ KB\n"
     ]
    }
   ],
   "source": [
    "# Getting the general information of the dataset\n",
    "dropoff_data.info()"
   ]
  },
  {
   "cell_type": "markdown",
   "id": "b4e6cfd7",
   "metadata": {},
   "source": [
    "Once again, everything seems alright with this dataset. However, we would like to round up the information for average trips, as it can be cleaner to work with whole numbers in the future. "
   ]
  },
  {
   "cell_type": "code",
   "execution_count": 7,
   "id": "09a4d5f4",
   "metadata": {},
   "outputs": [
    {
     "data": {
      "text/html": [
       "<div>\n",
       "<style scoped>\n",
       "    .dataframe tbody tr th:only-of-type {\n",
       "        vertical-align: middle;\n",
       "    }\n",
       "\n",
       "    .dataframe tbody tr th {\n",
       "        vertical-align: top;\n",
       "    }\n",
       "\n",
       "    .dataframe thead th {\n",
       "        text-align: right;\n",
       "    }\n",
       "</style>\n",
       "<table border=\"1\" class=\"dataframe\">\n",
       "  <thead>\n",
       "    <tr style=\"text-align: right;\">\n",
       "      <th></th>\n",
       "      <th>dropoff_location_name</th>\n",
       "      <th>average_trips</th>\n",
       "    </tr>\n",
       "  </thead>\n",
       "  <tbody>\n",
       "    <tr>\n",
       "      <th>0</th>\n",
       "      <td>Loop</td>\n",
       "      <td>10727</td>\n",
       "    </tr>\n",
       "    <tr>\n",
       "      <th>1</th>\n",
       "      <td>River North</td>\n",
       "      <td>9524</td>\n",
       "    </tr>\n",
       "    <tr>\n",
       "      <th>2</th>\n",
       "      <td>Streeterville</td>\n",
       "      <td>6665</td>\n",
       "    </tr>\n",
       "    <tr>\n",
       "      <th>3</th>\n",
       "      <td>West Loop</td>\n",
       "      <td>5164</td>\n",
       "    </tr>\n",
       "    <tr>\n",
       "      <th>4</th>\n",
       "      <td>O'Hare</td>\n",
       "      <td>2547</td>\n",
       "    </tr>\n",
       "  </tbody>\n",
       "</table>\n",
       "</div>"
      ],
      "text/plain": [
       "  dropoff_location_name  average_trips\n",
       "0                  Loop          10727\n",
       "1           River North           9524\n",
       "2         Streeterville           6665\n",
       "3             West Loop           5164\n",
       "4                O'Hare           2547"
      ]
     },
     "execution_count": 7,
     "metadata": {},
     "output_type": "execute_result"
    }
   ],
   "source": [
    "dropoff_data['average_trips'] = dropoff_data['average_trips'].apply(np.round).astype(int)\n",
    "\n",
    "# Checking the results\n",
    "dropoff_data.head()"
   ]
  },
  {
   "cell_type": "markdown",
   "id": "635cdd78",
   "metadata": {},
   "source": [
    "As before, we'll drop duplicated rows if any."
   ]
  },
  {
   "cell_type": "code",
   "execution_count": 8,
   "id": "e18b6bf6",
   "metadata": {},
   "outputs": [
    {
     "name": "stdout",
     "output_type": "stream",
     "text": [
      "<class 'pandas.core.frame.DataFrame'>\n",
      "RangeIndex: 94 entries, 0 to 93\n",
      "Data columns (total 2 columns):\n",
      " #   Column                 Non-Null Count  Dtype \n",
      "---  ------                 --------------  ----- \n",
      " 0   dropoff_location_name  94 non-null     object\n",
      " 1   average_trips          94 non-null     int64 \n",
      "dtypes: int64(1), object(1)\n",
      "memory usage: 1.6+ KB\n"
     ]
    }
   ],
   "source": [
    "dropoff_data.drop_duplicates()\n",
    "dropoff_data.info()"
   ]
  },
  {
   "cell_type": "markdown",
   "id": "da25c74a",
   "metadata": {},
   "source": [
    "# Exploratory data analysis"
   ]
  },
  {
   "cell_type": "markdown",
   "id": "4a62e326",
   "metadata": {},
   "source": [
    "## Top 10 dropoff locations"
   ]
  },
  {
   "cell_type": "markdown",
   "id": "9e58e1e0",
   "metadata": {},
   "source": [
    "Now, we are set to analyze our datasets. We'll start by analyzing the top 10 dropoff locations by number of trips."
   ]
  },
  {
   "cell_type": "code",
   "execution_count": 9,
   "id": "48afc992",
   "metadata": {},
   "outputs": [
    {
     "data": {
      "text/html": [
       "<div>\n",
       "<style scoped>\n",
       "    .dataframe tbody tr th:only-of-type {\n",
       "        vertical-align: middle;\n",
       "    }\n",
       "\n",
       "    .dataframe tbody tr th {\n",
       "        vertical-align: top;\n",
       "    }\n",
       "\n",
       "    .dataframe thead th {\n",
       "        text-align: right;\n",
       "    }\n",
       "</style>\n",
       "<table border=\"1\" class=\"dataframe\">\n",
       "  <thead>\n",
       "    <tr style=\"text-align: right;\">\n",
       "      <th></th>\n",
       "      <th>dropoff_location_name</th>\n",
       "      <th>average_trips</th>\n",
       "    </tr>\n",
       "  </thead>\n",
       "  <tbody>\n",
       "    <tr>\n",
       "      <th>0</th>\n",
       "      <td>Loop</td>\n",
       "      <td>10727</td>\n",
       "    </tr>\n",
       "    <tr>\n",
       "      <th>1</th>\n",
       "      <td>River North</td>\n",
       "      <td>9524</td>\n",
       "    </tr>\n",
       "    <tr>\n",
       "      <th>2</th>\n",
       "      <td>Streeterville</td>\n",
       "      <td>6665</td>\n",
       "    </tr>\n",
       "    <tr>\n",
       "      <th>3</th>\n",
       "      <td>West Loop</td>\n",
       "      <td>5164</td>\n",
       "    </tr>\n",
       "    <tr>\n",
       "      <th>4</th>\n",
       "      <td>O'Hare</td>\n",
       "      <td>2547</td>\n",
       "    </tr>\n",
       "    <tr>\n",
       "      <th>5</th>\n",
       "      <td>Lake View</td>\n",
       "      <td>2421</td>\n",
       "    </tr>\n",
       "    <tr>\n",
       "      <th>6</th>\n",
       "      <td>Grant Park</td>\n",
       "      <td>2069</td>\n",
       "    </tr>\n",
       "    <tr>\n",
       "      <th>7</th>\n",
       "      <td>Museum Campus</td>\n",
       "      <td>1510</td>\n",
       "    </tr>\n",
       "    <tr>\n",
       "      <th>8</th>\n",
       "      <td>Gold Coast</td>\n",
       "      <td>1364</td>\n",
       "    </tr>\n",
       "    <tr>\n",
       "      <th>9</th>\n",
       "      <td>Sheffield &amp; DePaul</td>\n",
       "      <td>1260</td>\n",
       "    </tr>\n",
       "  </tbody>\n",
       "</table>\n",
       "</div>"
      ],
      "text/plain": [
       "  dropoff_location_name  average_trips\n",
       "0                  Loop          10727\n",
       "1           River North           9524\n",
       "2         Streeterville           6665\n",
       "3             West Loop           5164\n",
       "4                O'Hare           2547\n",
       "5             Lake View           2421\n",
       "6            Grant Park           2069\n",
       "7         Museum Campus           1510\n",
       "8            Gold Coast           1364\n",
       "9    Sheffield & DePaul           1260"
      ]
     },
     "execution_count": 9,
     "metadata": {},
     "output_type": "execute_result"
    }
   ],
   "source": [
    "# sorting the dataset\n",
    "top_dropoff_locations = dropoff_data.sort_values(by='average_trips', ascending=False).head(10)\n",
    "top_dropoff_locations"
   ]
  },
  {
   "cell_type": "code",
   "execution_count": 10,
   "id": "8fa02dcd",
   "metadata": {},
   "outputs": [
    {
     "data": {
      "image/png": "[encoded data removed]",
      "text/plain": [
       "<Figure size 864x504 with 1 Axes>"
      ]
     },
     "metadata": {
      "needs_background": "light"
     },
     "output_type": "display_data"
    }
   ],
   "source": [
    "# Plotting the dataset\n",
    "top_dropoff_locations.plot.barh(x='dropoff_location_name', figsize=(12,7))\n",
    "plt.title('Top 10 dropoff locations')\n",
    "plt.xlabel('Average trips completed')\n",
    "plt.ylabel('Location')\n",
    "plt.show()"
   ]
  },
  {
   "cell_type": "markdown",
   "id": "d3484d3b",
   "metadata": {},
   "source": [
    "As can be seen, cabs offer significantly more services to users in the *Loop, River North, Streetville* and *West Loop* neighborhoods than the rest. This information gives us a way of knowing where to offer services at **Zuber**."
   ]
  },
  {
   "cell_type": "markdown",
   "id": "2a215dc0",
   "metadata": {},
   "source": [
    "Now, let us do the same for cab companies."
   ]
  },
  {
   "cell_type": "markdown",
   "id": "8e2d69d9",
   "metadata": {},
   "source": [
    "## Top 10 companies"
   ]
  },
  {
   "cell_type": "code",
   "execution_count": 11,
   "id": "6d2e234a",
   "metadata": {},
   "outputs": [
    {
     "data": {
      "text/html": [
       "<div>\n",
       "<style scoped>\n",
       "    .dataframe tbody tr th:only-of-type {\n",
       "        vertical-align: middle;\n",
       "    }\n",
       "\n",
       "    .dataframe tbody tr th {\n",
       "        vertical-align: top;\n",
       "    }\n",
       "\n",
       "    .dataframe thead th {\n",
       "        text-align: right;\n",
       "    }\n",
       "</style>\n",
       "<table border=\"1\" class=\"dataframe\">\n",
       "  <thead>\n",
       "    <tr style=\"text-align: right;\">\n",
       "      <th></th>\n",
       "      <th>company_name</th>\n",
       "      <th>trips_amount</th>\n",
       "    </tr>\n",
       "  </thead>\n",
       "  <tbody>\n",
       "    <tr>\n",
       "      <th>0</th>\n",
       "      <td>Flash Cab</td>\n",
       "      <td>19558</td>\n",
       "    </tr>\n",
       "    <tr>\n",
       "      <th>1</th>\n",
       "      <td>Taxi Affiliation Services</td>\n",
       "      <td>11422</td>\n",
       "    </tr>\n",
       "    <tr>\n",
       "      <th>2</th>\n",
       "      <td>Medallion Leasing</td>\n",
       "      <td>10367</td>\n",
       "    </tr>\n",
       "    <tr>\n",
       "      <th>3</th>\n",
       "      <td>Yellow Cab</td>\n",
       "      <td>9888</td>\n",
       "    </tr>\n",
       "    <tr>\n",
       "      <th>4</th>\n",
       "      <td>Taxi Affiliation Service Yellow</td>\n",
       "      <td>9299</td>\n",
       "    </tr>\n",
       "    <tr>\n",
       "      <th>5</th>\n",
       "      <td>Chicago Carriage Cab Corp</td>\n",
       "      <td>9181</td>\n",
       "    </tr>\n",
       "    <tr>\n",
       "      <th>6</th>\n",
       "      <td>City Service</td>\n",
       "      <td>8448</td>\n",
       "    </tr>\n",
       "    <tr>\n",
       "      <th>7</th>\n",
       "      <td>Sun Taxi</td>\n",
       "      <td>7701</td>\n",
       "    </tr>\n",
       "    <tr>\n",
       "      <th>8</th>\n",
       "      <td>Star North Management LLC</td>\n",
       "      <td>7455</td>\n",
       "    </tr>\n",
       "    <tr>\n",
       "      <th>9</th>\n",
       "      <td>Blue Ribbon Taxi Association Inc.</td>\n",
       "      <td>5953</td>\n",
       "    </tr>\n",
       "  </tbody>\n",
       "</table>\n",
       "</div>"
      ],
      "text/plain": [
       "                        company_name  trips_amount\n",
       "0                          Flash Cab         19558\n",
       "1          Taxi Affiliation Services         11422\n",
       "2                  Medallion Leasing         10367\n",
       "3                         Yellow Cab          9888\n",
       "4    Taxi Affiliation Service Yellow          9299\n",
       "5          Chicago Carriage Cab Corp          9181\n",
       "6                       City Service          8448\n",
       "7                           Sun Taxi          7701\n",
       "8          Star North Management LLC          7455\n",
       "9  Blue Ribbon Taxi Association Inc.          5953"
      ]
     },
     "execution_count": 11,
     "metadata": {},
     "output_type": "execute_result"
    }
   ],
   "source": [
    "# Getting the top 10 companies by trips made\n",
    "top_companies = companies_data.sort_values(by='trips_amount', ascending=False).head(10)\n",
    "\n",
    "# checking the results\n",
    "top_companies"
   ]
  },
  {
   "cell_type": "code",
   "execution_count": 12,
   "id": "0fdb8847",
   "metadata": {},
   "outputs": [
    {
     "data": {
      "image/png": "[encoded data removed]",
      "text/plain": [
       "<Figure size 864x504 with 1 Axes>"
      ]
     },
     "metadata": {
      "needs_background": "light"
     },
     "output_type": "display_data"
    }
   ],
   "source": [
    "# Plotting the results\n",
    "top_companies.plot.barh(x='company_name', figsize=(12,7))\n",
    "plt.title('Top companies')\n",
    "plt.xlabel('Trips completed')\n",
    "plt.ylabel('')\n",
    "plt.show()"
   ]
  },
  {
   "cell_type": "markdown",
   "id": "af111a74",
   "metadata": {},
   "source": [
    "*Flas Cab* is the indisputable leader by far. They must offer a very good service and must have many units working. In second place comes *Taxi Affiliation Services*, but does not differ from the other top by that much."
   ]
  },
  {
   "cell_type": "markdown",
   "id": "bd6380ce",
   "metadata": {},
   "source": [
    "# Hypothesis testing\n",
    "\n",
    "As explained in the Introduction, we want to know how weather conditions affect trips from *Loop* to *O'Hare International Airport*. In order to do so, we'll test the following hypothesis:\n",
    "\n",
    "- The average trip duration from *Loop* to *O'Hare International Airport* changes on rainy Saturdays.\n",
    "\n",
    "That is, we have\n",
    "\n",
    "- **Null hypothesis**: The average trip duration from *Loop* to *O'Hare International Airport* does not change on rainy Saturdays.\n",
    "- **Alternate hypothesis**: The average trip duration from *Loop* to *O'Hare International Airport* changes on rainy Saturdays.\n",
    "\n",
    "For that end, we were given data containing information about trips from *Loop* to *O'Hare* along with the weather conditions and the duration of the trip."
   ]
  },
  {
   "cell_type": "code",
   "execution_count": 13,
   "id": "2a05cf0e",
   "metadata": {},
   "outputs": [
    {
     "data": {
      "text/html": [
       "<div>\n",
       "<style scoped>\n",
       "    .dataframe tbody tr th:only-of-type {\n",
       "        vertical-align: middle;\n",
       "    }\n",
       "\n",
       "    .dataframe tbody tr th {\n",
       "        vertical-align: top;\n",
       "    }\n",
       "\n",
       "    .dataframe thead th {\n",
       "        text-align: right;\n",
       "    }\n",
       "</style>\n",
       "<table border=\"1\" class=\"dataframe\">\n",
       "  <thead>\n",
       "    <tr style=\"text-align: right;\">\n",
       "      <th></th>\n",
       "      <th>start_ts</th>\n",
       "      <th>weather_conditions</th>\n",
       "      <th>duration_seconds</th>\n",
       "    </tr>\n",
       "  </thead>\n",
       "  <tbody>\n",
       "    <tr>\n",
       "      <th>0</th>\n",
       "      <td>2017-11-25 16:00:00</td>\n",
       "      <td>Good</td>\n",
       "      <td>2410.0</td>\n",
       "    </tr>\n",
       "    <tr>\n",
       "      <th>1</th>\n",
       "      <td>2017-11-25 14:00:00</td>\n",
       "      <td>Good</td>\n",
       "      <td>1920.0</td>\n",
       "    </tr>\n",
       "    <tr>\n",
       "      <th>2</th>\n",
       "      <td>2017-11-25 12:00:00</td>\n",
       "      <td>Good</td>\n",
       "      <td>1543.0</td>\n",
       "    </tr>\n",
       "    <tr>\n",
       "      <th>3</th>\n",
       "      <td>2017-11-04 10:00:00</td>\n",
       "      <td>Good</td>\n",
       "      <td>2512.0</td>\n",
       "    </tr>\n",
       "    <tr>\n",
       "      <th>4</th>\n",
       "      <td>2017-11-11 07:00:00</td>\n",
       "      <td>Good</td>\n",
       "      <td>1440.0</td>\n",
       "    </tr>\n",
       "  </tbody>\n",
       "</table>\n",
       "</div>"
      ],
      "text/plain": [
       "              start_ts weather_conditions  duration_seconds\n",
       "0  2017-11-25 16:00:00               Good            2410.0\n",
       "1  2017-11-25 14:00:00               Good            1920.0\n",
       "2  2017-11-25 12:00:00               Good            1543.0\n",
       "3  2017-11-04 10:00:00               Good            2512.0\n",
       "4  2017-11-11 07:00:00               Good            1440.0"
      ]
     },
     "execution_count": 13,
     "metadata": {},
     "output_type": "execute_result"
    }
   ],
   "source": [
    "# Importing the data\n",
    "loop_ohare = pd.read_csv('/datasets/project_sql_result_07.csv')\n",
    "\n",
    "# Taking a look at the dataset\n",
    "loop_ohare.head()"
   ]
  },
  {
   "cell_type": "code",
   "execution_count": 14,
   "id": "a509b3b5",
   "metadata": {},
   "outputs": [
    {
     "name": "stdout",
     "output_type": "stream",
     "text": [
      "<class 'pandas.core.frame.DataFrame'>\n",
      "RangeIndex: 1068 entries, 0 to 1067\n",
      "Data columns (total 3 columns):\n",
      " #   Column              Non-Null Count  Dtype  \n",
      "---  ------              --------------  -----  \n",
      " 0   start_ts            1068 non-null   object \n",
      " 1   weather_conditions  1068 non-null   object \n",
      " 2   duration_seconds    1068 non-null   float64\n",
      "dtypes: float64(1), object(2)\n",
      "memory usage: 25.2+ KB\n"
     ]
    }
   ],
   "source": [
    "# Getting general information of the dataset\n",
    "loop_ohare.info()"
   ]
  },
  {
   "cell_type": "markdown",
   "id": "eab48164",
   "metadata": {},
   "source": [
    "We'll change the \"start_ts\" column's datatype to datetime. Besides that, the dataframe looks OK."
   ]
  },
  {
   "cell_type": "code",
   "execution_count": 15,
   "id": "b4730214",
   "metadata": {},
   "outputs": [
    {
     "name": "stdout",
     "output_type": "stream",
     "text": [
      "<class 'pandas.core.frame.DataFrame'>\n",
      "RangeIndex: 1068 entries, 0 to 1067\n",
      "Data columns (total 3 columns):\n",
      " #   Column              Non-Null Count  Dtype         \n",
      "---  ------              --------------  -----         \n",
      " 0   start_ts            1068 non-null   datetime64[ns]\n",
      " 1   weather_conditions  1068 non-null   object        \n",
      " 2   duration_seconds    1068 non-null   float64       \n",
      "dtypes: datetime64[ns](1), float64(1), object(1)\n",
      "memory usage: 25.2+ KB\n"
     ]
    }
   ],
   "source": [
    "# Changing datatype\n",
    "loop_ohare['start_ts'] = pd.to_datetime(loop_ohare['start_ts'], format='%Y-%m-%d %H:%M:%S')\n",
    "\n",
    "# Checking the results\n",
    "loop_ohare.info()"
   ]
  },
  {
   "cell_type": "markdown",
   "id": "542e1265",
   "metadata": {},
   "source": [
    "Now, let us check the values for \"weather_conditions\"."
   ]
  },
  {
   "cell_type": "code",
   "execution_count": 16,
   "id": "863e3840",
   "metadata": {},
   "outputs": [
    {
     "data": {
      "text/plain": [
       "array(['Good', 'Bad'], dtype=object)"
      ]
     },
     "execution_count": 16,
     "metadata": {},
     "output_type": "execute_result"
    }
   ],
   "source": [
    "loop_ohare['weather_conditions'].unique()"
   ]
  },
  {
   "cell_type": "markdown",
   "id": "9c87fb5b",
   "metadata": {},
   "source": [
    "With this information, we can now split our data into \"Good\" and \"Bad\" weather. This facilitates our analysis, since we can check for the durations of trips for \"Good\" weather, and compare it with those for \"Bad\" weather."
   ]
  },
  {
   "cell_type": "code",
   "execution_count": 17,
   "id": "b8e45c59",
   "metadata": {},
   "outputs": [
    {
     "data": {
      "text/plain": [
       "array(['Good'], dtype=object)"
      ]
     },
     "execution_count": 17,
     "metadata": {},
     "output_type": "execute_result"
    }
   ],
   "source": [
    "# Getting a new dataframe with only \"Good\" weather\n",
    "good_weather = loop_ohare[loop_ohare['weather_conditions'] == 'Good']\n",
    "\n",
    "# Checking the results\n",
    "good_weather['weather_conditions'].unique()"
   ]
  },
  {
   "cell_type": "code",
   "execution_count": 18,
   "id": "85233e2a",
   "metadata": {},
   "outputs": [
    {
     "data": {
      "text/plain": [
       "array(['Bad'], dtype=object)"
      ]
     },
     "execution_count": 18,
     "metadata": {},
     "output_type": "execute_result"
    }
   ],
   "source": [
    "# Getting a new dataframe with only \"Bad\" weather\n",
    "bad_weather = loop_ohare[loop_ohare['weather_conditions'] == 'Bad']\n",
    "\n",
    "# Checking the results\n",
    "bad_weather['weather_conditions'].unique()"
   ]
  },
  {
   "cell_type": "markdown",
   "id": "b93c3f61",
   "metadata": {},
   "source": [
    "With this, we're now set to test our hypothesis. To that end, we will use a *t-test* because we are testing for the equality of the means of two populations."
   ]
  },
  {
   "cell_type": "code",
   "execution_count": 19,
   "id": "59ad9d4f",
   "metadata": {},
   "outputs": [
    {
     "name": "stdout",
     "output_type": "stream",
     "text": [
      "p-value: 6.517970327099473e-12\n",
      "We reject the null hypothesis\n"
     ]
    }
   ],
   "source": [
    "# Setting the statistical significance at 5%\n",
    "alpha = 0.05\n",
    "\n",
    "# Applying the t-test on the trip's duration\n",
    "# and storing the result\n",
    "result = st.ttest_ind(good_weather['duration_seconds'], bad_weather['duration_seconds'])\n",
    "\n",
    "# Printing the p-value\n",
    "print('p-value:', result.pvalue)\n",
    "\n",
    "# Checking for conditions on the result\n",
    "if result.pvalue > alpha:\n",
    "    print('We cannot reject the null hypothesis')\n",
    "else:\n",
    "    print('We reject the null hypothesis')"
   ]
  },
  {
   "cell_type": "markdown",
   "id": "2231405d",
   "metadata": {},
   "source": [
    "So, our test brings about the rejection of the null hypothesis, i.e., the average trip duration from Loop to O'Hare International Airport indeed changes on rainy Saturdays."
   ]
  },
  {
   "cell_type": "markdown",
   "id": "f207aff0",
   "metadata": {},
   "source": [
    "# Conclusion"
   ]
  },
  {
   "cell_type": "markdown",
   "id": "9522de10",
   "metadata": {},
   "source": [
    "We have analysed data from cab companies in Chicago. The data contained information about the amount of trips made by each company, and the trips made to certain locations.\n",
    "\n",
    "We found that *Flash Cab* is the leader in the market. Also, we found that *Loop* area is the destinations with most dropoffs made by cab companies in the city.\n",
    "\n",
    "Moreover, we proved the fact that the average trip duration from *Loop* to *O'Hare International Airport* changes on rainy Saturdays, a fact that maybe comes as no surprise since rainy days tend to modify trips overall."
   ]
  }
 ],
 "metadata": {
  "kernelspec": {
   "display_name": "Python 3 (ipykernel)",
   "language": "python",
   "name": "python3"
  },
  "language_info": {
   "codemirror_mode": {
    "name": "ipython",
    "version": 3
   },
   "file_extension": ".py",
   "mimetype": "text/x-python",
   "name": "python",
   "nbconvert_exporter": "python",
   "pygments_lexer": "ipython3",
   "version": "3.10.9"
  },
  "toc": {
   "base_numbering": 1,
   "nav_menu": {},
   "number_sections": false,
   "sideBar": true,
   "skip_h1_title": false,
   "title_cell": "Table of Contents",
   "title_sidebar": "Contents",
   "toc_cell": true,
   "toc_position": {},
   "toc_section_display": true,
   "toc_window_display": false
  }
 },
 "nbformat": 4,
 "nbformat_minor": 5
}
